{
  "nbformat": 4,
  "nbformat_minor": 0,
  "metadata": {
    "colab": {
      "name": "Tweets_ML.ipynb",
      "provenance": [],
      "collapsed_sections": []
    },
    "kernelspec": {
      "name": "python3",
      "display_name": "Python 3"
    },
    "language_info": {
      "name": "python"
    }
  },
  "cells": [
    {
      "cell_type": "markdown",
      "source": [
        "# **Modele Machine Learning**\n"
      ],
      "metadata": {
        "id": "WSLquKOyWKTz"
      }
    },
    {
      "cell_type": "markdown",
      "source": [
        "### Instalacja niezbędnych pakietów\n",
        "\n",
        "*   analiza\n",
        "*   modele\n",
        "*   wizualizacja\n"
      ],
      "metadata": {
        "id": "ovMnxRJKKRXV"
      }
    },
    {
      "cell_type": "code",
      "source": [
        "from IPython.display import clear_output\n",
        "import pandas as pd\n",
        "from pydrive.auth import GoogleAuth\n",
        "from pydrive.drive import GoogleDrive\n",
        "from google.colab import auth\n",
        "from oauth2client.client import GoogleCredentials\n",
        "import re\n",
        "import numpy as np\n",
        "import string\n",
        "import time\n",
        "import pickle\n",
        "\n",
        "\n",
        "import seaborn as sns\n",
        "from wordcloud import WordCloud\n",
        "import matplotlib.pyplot as plt\n",
        "\n",
        "\n",
        "from sklearn.svm import LinearSVC\n",
        "from sklearn.naive_bayes import GaussianNB\n",
        "from sklearn.linear_model import LogisticRegression\n",
        "from sklearn.naive_bayes import BernoulliNB\n",
        "from sklearn.model_selection import train_test_split\n",
        "from sklearn.feature_extraction.text import TfidfVectorizer\n",
        "from sklearn.metrics import confusion_matrix, classification_report\n",
        "from sklearn.metrics import roc_auc_score\n",
        "from sklearn.metrics import roc_curve, auc\n",
        "from sklearn.multiclass import OneVsRestClassifier\n",
        "from sklearn.svm import SVC\n",
        "from sklearn.calibration import CalibratedClassifierCV\n",
        "\n",
        "\n",
        "!pip install argparse #Argparse 3.2\n",
        "!pip install xtract #Xtract 0.1 a3\n",
        "clear_output()"
      ],
      "metadata": {
        "id": "pUtqyIz0WOCr"
      },
      "execution_count": 1,
      "outputs": []
    },
    {
      "cell_type": "markdown",
      "source": [
        "## Dane\n",
        "\n",
        "*   dane zostały wcześniej poddane prepocessingowi\n",
        "*   ładowanie czystych danych\n",
        "\n"
      ],
      "metadata": {
        "id": "o01cAwHApxU5"
      }
    },
    {
      "cell_type": "code",
      "source": [
        "#Authenticate\n",
        "from google.colab import drive\n",
        "drive.mount('/content/drive/')"
      ],
      "metadata": {
        "colab": {
          "base_uri": "https://localhost:8080/"
        },
        "id": "kWM1r7-oWZjK",
        "outputId": "c258152a-ed45-4ef0-8a03-2703acf0e99e"
      },
      "execution_count": 2,
      "outputs": [
        {
          "output_type": "stream",
          "name": "stdout",
          "text": [
            "Mounted at /content/drive/\n"
          ]
        }
      ]
    },
    {
      "cell_type": "code",
      "source": [
        "path = '/content/drive/MyDrive/ZUM projekt/clean_data.csv'   \n",
        "clean_data = pd.read_csv(path, delimiter = \",\", encoding='utf-8')\n",
        "clean_data.head()"
      ],
      "metadata": {
        "colab": {
          "base_uri": "https://localhost:8080/",
          "height": 206
        },
        "id": "ScETK1FAWi9S",
        "outputId": "2479f7fd-7692-4c07-f5d7-7e469aadc65b"
      },
      "execution_count": 4,
      "outputs": [
        {
          "output_type": "execute_result",
          "data": {
            "text/html": [
              "\n",
              "  <div id=\"df-334dc9a9-00de-4a82-bd78-b2c6583157c8\">\n",
              "    <div class=\"colab-df-container\">\n",
              "      <div>\n",
              "<style scoped>\n",
              "    .dataframe tbody tr th:only-of-type {\n",
              "        vertical-align: middle;\n",
              "    }\n",
              "\n",
              "    .dataframe tbody tr th {\n",
              "        vertical-align: top;\n",
              "    }\n",
              "\n",
              "    .dataframe thead th {\n",
              "        text-align: right;\n",
              "    }\n",
              "</style>\n",
              "<table border=\"1\" class=\"dataframe\">\n",
              "  <thead>\n",
              "    <tr style=\"text-align: right;\">\n",
              "      <th></th>\n",
              "      <th>tweet</th>\n",
              "      <th>clean_text</th>\n",
              "      <th>cleaned_text</th>\n",
              "      <th>sentiment</th>\n",
              "      <th>sentiments_val</th>\n",
              "    </tr>\n",
              "  </thead>\n",
              "  <tbody>\n",
              "    <tr>\n",
              "      <th>0</th>\n",
              "      <td>Kiedy #coronavirus dotrze do Polski, napotka o...</td>\n",
              "      <td>['coronavirus', 'dotrze', 'polski', 'napotka',...</td>\n",
              "      <td>coronavirus dotrze polski napotka op znakomici...</td>\n",
              "      <td>1</td>\n",
              "      <td>positive</td>\n",
              "    </tr>\n",
              "    <tr>\n",
              "      <th>1</th>\n",
              "      <td>Kolejni Polacy chcą wrócić z Wuhan https://t.c...</td>\n",
              "      <td>['kolejni', 'polacy', 'chc', 'wr', 'wuhan']</td>\n",
              "      <td>kolejni polacy chc wr wuhan</td>\n",
              "      <td>1</td>\n",
              "      <td>positive</td>\n",
              "    </tr>\n",
              "    <tr>\n",
              "      <th>2</th>\n",
              "      <td>A tymczasem w Wuhan odcięto od reszty świata o...</td>\n",
              "      <td>['tymczasem', 'wuhan', 'odci', 'reszty', 'wiat...</td>\n",
              "      <td>tymczasem wuhan odci reszty wiata obszar por w...</td>\n",
              "      <td>0</td>\n",
              "      <td>negative</td>\n",
              "    </tr>\n",
              "    <tr>\n",
              "      <th>3</th>\n",
              "      <td>@PatrykWachowiec @KancelariaSejmu nie zdziwię ...</td>\n",
              "      <td>['zdziwi', 'si', 'powiedz', 'listy', 'pojecha'...</td>\n",
              "      <td>zdziwi si powiedz listy pojecha chin wuhan odw...</td>\n",
              "      <td>1</td>\n",
              "      <td>positive</td>\n",
              "    </tr>\n",
              "    <tr>\n",
              "      <th>4</th>\n",
              "      <td>.@MSZ_RP: 19 Polaków chce wrócić z Wuhan, w am...</td>\n",
              "      <td>['rp', 'polak', 'wr', 'wuhan', 'ambasadzie', '...</td>\n",
              "      <td>rp polak wr wuhan ambasadzie rp pekinie powo a...</td>\n",
              "      <td>1</td>\n",
              "      <td>positive</td>\n",
              "    </tr>\n",
              "  </tbody>\n",
              "</table>\n",
              "</div>\n",
              "      <button class=\"colab-df-convert\" onclick=\"convertToInteractive('df-334dc9a9-00de-4a82-bd78-b2c6583157c8')\"\n",
              "              title=\"Convert this dataframe to an interactive table.\"\n",
              "              style=\"display:none;\">\n",
              "        \n",
              "  <svg xmlns=\"http://www.w3.org/2000/svg\" height=\"24px\"viewBox=\"0 0 24 24\"\n",
              "       width=\"24px\">\n",
              "    <path d=\"M0 0h24v24H0V0z\" fill=\"none\"/>\n",
              "    <path d=\"M18.56 5.44l.94 2.06.94-2.06 2.06-.94-2.06-.94-.94-2.06-.94 2.06-2.06.94zm-11 1L8.5 8.5l.94-2.06 2.06-.94-2.06-.94L8.5 2.5l-.94 2.06-2.06.94zm10 10l.94 2.06.94-2.06 2.06-.94-2.06-.94-.94-2.06-.94 2.06-2.06.94z\"/><path d=\"M17.41 7.96l-1.37-1.37c-.4-.4-.92-.59-1.43-.59-.52 0-1.04.2-1.43.59L10.3 9.45l-7.72 7.72c-.78.78-.78 2.05 0 2.83L4 21.41c.39.39.9.59 1.41.59.51 0 1.02-.2 1.41-.59l7.78-7.78 2.81-2.81c.8-.78.8-2.07 0-2.86zM5.41 20L4 18.59l7.72-7.72 1.47 1.35L5.41 20z\"/>\n",
              "  </svg>\n",
              "      </button>\n",
              "      \n",
              "  <style>\n",
              "    .colab-df-container {\n",
              "      display:flex;\n",
              "      flex-wrap:wrap;\n",
              "      gap: 12px;\n",
              "    }\n",
              "\n",
              "    .colab-df-convert {\n",
              "      background-color: #E8F0FE;\n",
              "      border: none;\n",
              "      border-radius: 50%;\n",
              "      cursor: pointer;\n",
              "      display: none;\n",
              "      fill: #1967D2;\n",
              "      height: 32px;\n",
              "      padding: 0 0 0 0;\n",
              "      width: 32px;\n",
              "    }\n",
              "\n",
              "    .colab-df-convert:hover {\n",
              "      background-color: #E2EBFA;\n",
              "      box-shadow: 0px 1px 2px rgba(60, 64, 67, 0.3), 0px 1px 3px 1px rgba(60, 64, 67, 0.15);\n",
              "      fill: #174EA6;\n",
              "    }\n",
              "\n",
              "    [theme=dark] .colab-df-convert {\n",
              "      background-color: #3B4455;\n",
              "      fill: #D2E3FC;\n",
              "    }\n",
              "\n",
              "    [theme=dark] .colab-df-convert:hover {\n",
              "      background-color: #434B5C;\n",
              "      box-shadow: 0px 1px 3px 1px rgba(0, 0, 0, 0.15);\n",
              "      filter: drop-shadow(0px 1px 2px rgba(0, 0, 0, 0.3));\n",
              "      fill: #FFFFFF;\n",
              "    }\n",
              "  </style>\n",
              "\n",
              "      <script>\n",
              "        const buttonEl =\n",
              "          document.querySelector('#df-334dc9a9-00de-4a82-bd78-b2c6583157c8 button.colab-df-convert');\n",
              "        buttonEl.style.display =\n",
              "          google.colab.kernel.accessAllowed ? 'block' : 'none';\n",
              "\n",
              "        async function convertToInteractive(key) {\n",
              "          const element = document.querySelector('#df-334dc9a9-00de-4a82-bd78-b2c6583157c8');\n",
              "          const dataTable =\n",
              "            await google.colab.kernel.invokeFunction('convertToInteractive',\n",
              "                                                     [key], {});\n",
              "          if (!dataTable) return;\n",
              "\n",
              "          const docLinkHtml = 'Like what you see? Visit the ' +\n",
              "            '<a target=\"_blank\" href=https://colab.research.google.com/notebooks/data_table.ipynb>data table notebook</a>'\n",
              "            + ' to learn more about interactive tables.';\n",
              "          element.innerHTML = '';\n",
              "          dataTable['output_type'] = 'display_data';\n",
              "          await google.colab.output.renderOutput(dataTable, element);\n",
              "          const docLink = document.createElement('div');\n",
              "          docLink.innerHTML = docLinkHtml;\n",
              "          element.appendChild(docLink);\n",
              "        }\n",
              "      </script>\n",
              "    </div>\n",
              "  </div>\n",
              "  "
            ],
            "text/plain": [
              "                                               tweet  ... sentiments_val\n",
              "0  Kiedy #coronavirus dotrze do Polski, napotka o...  ...       positive\n",
              "1  Kolejni Polacy chcą wrócić z Wuhan https://t.c...  ...       positive\n",
              "2  A tymczasem w Wuhan odcięto od reszty świata o...  ...       negative\n",
              "3  @PatrykWachowiec @KancelariaSejmu nie zdziwię ...  ...       positive\n",
              "4  .@MSZ_RP: 19 Polaków chce wrócić z Wuhan, w am...  ...       positive\n",
              "\n",
              "[5 rows x 5 columns]"
            ]
          },
          "metadata": {},
          "execution_count": 4
        }
      ]
    },
    {
      "cell_type": "markdown",
      "source": [
        "## Podział na dane testowe, treningowe i walidacyjne"
      ],
      "metadata": {
        "id": "N5BudGuVqXv4"
      }
    },
    {
      "cell_type": "code",
      "source": [
        "X = clean_data['cleaned_text'].values.astype('U')\n",
        "Y = clean_data['sentiment'].values.astype('U')\n",
        "\n",
        "X_train, X_test, y_train, y_test = train_test_split(X, Y, test_size = 0.2, random_state =37)\n",
        "X_validation, X_test, y_validation, y_test = train_test_split(X_test, y_test, test_size = 0.5, random_state =37)"
      ],
      "metadata": {
        "id": "9acVxmUD0XWH"
      },
      "execution_count": 5,
      "outputs": []
    },
    {
      "cell_type": "code",
      "source": [
        "vectorizer = TfidfVectorizer(ngram_range=(1,2), max_features=485087)\n",
        "vectors = vectorizer.fit_transform(X_train, X_test)\n"
      ],
      "metadata": {
        "id": "ToBbQxNBs5Ab"
      },
      "execution_count": 6,
      "outputs": []
    },
    {
      "cell_type": "code",
      "source": [
        "X_train = vectorizer.transform(X_train)\n",
        "X_test  = vectorizer.transform(X_test)"
      ],
      "metadata": {
        "id": "XarxtD6FuFnL"
      },
      "execution_count": 7,
      "outputs": []
    },
    {
      "cell_type": "code",
      "source": [
        "y_train = y_train.astype(int)\n",
        "y_test = y_test.astype(int)\n",
        "y_validation = y_validation.astype(int)"
      ],
      "metadata": {
        "id": "YMUfSnVLdzg_"
      },
      "execution_count": 8,
      "outputs": []
    },
    {
      "cell_type": "markdown",
      "source": [
        "## Model ewaluacji wyników"
      ],
      "metadata": {
        "id": "j1xnbJTmqEKw"
      }
    },
    {
      "cell_type": "code",
      "source": [
        "def model_Evaluate(model):\n",
        "  # Predykcja danych na danych testowych\n",
        "  y_pred = model.predict(X_test)\n",
        "\n",
        "  # Wyświetlenie metryk ewaluacji na podstawie predykcji i ground truth (faktycznych etykiet)\n",
        "  print(classification_report(y_test, y_pred))\n",
        "\n",
        "  # Obliczamy i wyświetlamy confusion matrix\n",
        "  cf_matrix = confusion_matrix(y_test, y_pred)\n",
        "  categories = ['Negative', 'Positive']\n",
        "  group_names = ['True Neg', 'False Pos', 'False Neg','True Pos' ]\n",
        "  group_percentages = ['{0:.2%}'.format(value) for value in cf_matrix.flatten() / np.sum(cf_matrix)]\n",
        "  labels = [f'{v1}\\n{v2}' for v1, v2 in zip(group_names, group_percentages)]\n",
        "  labels = np.asarray(labels).reshape(2,2)\n",
        "  sns.heatmap(cf_matrix, annot = labels, cmap = 'Blues',fmt = '',\n",
        "              xticklabels = categories, yticklabels = categories)\n",
        "  plt.xlabel(\"Predicted values\", fontdict = {'size':14}, labelpad = 10)\n",
        "  plt.ylabel(\"Actual values\" , fontdict = {'size':14}, labelpad = 10)\n",
        "  plt.title (\"Confusion Matrix\", fontdict = {'size':18}, pad = 20)"
      ],
      "metadata": {
        "id": "_VqoBoHsuBxm"
      },
      "execution_count": 9,
      "outputs": []
    },
    {
      "cell_type": "markdown",
      "source": [
        "## Algorytm 1 - Bernoulli Naive Bayes (BernoulliNB)\n"
      ],
      "metadata": {
        "id": "aex2wX0BigSj"
      }
    },
    {
      "cell_type": "code",
      "source": [
        "BNBmodel = BernoulliNB(alpha = 2)\n",
        "y_pred1 = BNBmodel.fit(X_train, y_train)\n",
        "model_Evaluate(BNBmodel)"
      ],
      "metadata": {
        "colab": {
          "base_uri": "https://localhost:8080/",
          "height": 479
        },
        "id": "y2s2BD7C9JIX",
        "outputId": "264a5a52-ab36-4ea9-b5d2-62bb6f1627c5"
      },
      "execution_count": 10,
      "outputs": [
        {
          "output_type": "stream",
          "name": "stdout",
          "text": [
            "              precision    recall  f1-score   support\n",
            "\n",
            "           0       0.93      0.74      0.83     19429\n",
            "           1       0.85      0.96      0.90     28937\n",
            "\n",
            "    accuracy                           0.88     48366\n",
            "   macro avg       0.89      0.85      0.86     48366\n",
            "weighted avg       0.88      0.88      0.87     48366\n",
            "\n"
          ]
        },
        {
          "output_type": "display_data",
          "data": {
            "image/png": "[encoded data removed]",
            "text/plain": [
              "<Figure size 432x288 with 2 Axes>"
            ]
          },
          "metadata": {
            "needs_background": "light"
          }
        }
      ]
    },
    {
      "cell_type": "markdown",
      "source": [
        "## Algorytm 2 - Linear Support Vector Classification\n",
        "\n"
      ],
      "metadata": {
        "id": "nCjnKMF8oriK"
      }
    },
    {
      "cell_type": "code",
      "source": [
        "svm = LinearSVC(random_state=0)\n",
        "clf = CalibratedClassifierCV(svm) \n",
        "y_pred2 = clf.fit(X_train, y_train)\n",
        "model_Evaluate(clf)"
      ],
      "metadata": {
        "colab": {
          "base_uri": "https://localhost:8080/",
          "height": 479
        },
        "id": "uqdPT7FSHpPt",
        "outputId": "a234db52-57a1-448f-a278-af597b5ef767"
      },
      "execution_count": 11,
      "outputs": [
        {
          "output_type": "stream",
          "name": "stdout",
          "text": [
            "              precision    recall  f1-score   support\n",
            "\n",
            "           0       0.94      0.91      0.93     19429\n",
            "           1       0.94      0.96      0.95     28937\n",
            "\n",
            "    accuracy                           0.94     48366\n",
            "   macro avg       0.94      0.94      0.94     48366\n",
            "weighted avg       0.94      0.94      0.94     48366\n",
            "\n"
          ]
        },
        {
          "output_type": "display_data",
          "data": {
            "image/png": "[encoded data removed]",
            "text/plain": [
              "<Figure size 432x288 with 2 Axes>"
            ]
          },
          "metadata": {
            "needs_background": "light"
          }
        }
      ]
    },
    {
      "cell_type": "markdown",
      "source": [
        "## Algorytm 3 - Logistic Regression"
      ],
      "metadata": {
        "id": "7FLCvMgcnVKb"
      }
    },
    {
      "cell_type": "code",
      "source": [
        "# define and fit the model\n",
        "LRmodel = LogisticRegression(max_iter = 1000)\n",
        "y_pred3 = LRmodel.fit(X_train, y_train).decision_function(X_test)\n",
        "model_Evaluate(LRmodel)"
      ],
      "metadata": {
        "colab": {
          "base_uri": "https://localhost:8080/",
          "height": 479
        },
        "id": "GvB0x4IJtRBN",
        "outputId": "4e5bdb7d-ba12-4fb6-dd52-a6e90189ba95"
      },
      "execution_count": 12,
      "outputs": [
        {
          "output_type": "stream",
          "name": "stdout",
          "text": [
            "              precision    recall  f1-score   support\n",
            "\n",
            "           0       0.93      0.87      0.90     19429\n",
            "           1       0.92      0.95      0.93     28937\n",
            "\n",
            "    accuracy                           0.92     48366\n",
            "   macro avg       0.92      0.91      0.92     48366\n",
            "weighted avg       0.92      0.92      0.92     48366\n",
            "\n"
          ]
        },
        {
          "output_type": "display_data",
          "data": {
            "image/png": "[encoded data removed]",
            "text/plain": [
              "<Figure size 432x288 with 2 Axes>"
            ]
          },
          "metadata": {
            "needs_background": "light"
          }
        }
      ]
    },
    {
      "cell_type": "markdown",
      "source": [
        "### ROC Curve"
      ],
      "metadata": {
        "id": "Z9Pm-BVUMUKb"
      }
    },
    {
      "cell_type": "code",
      "source": [
        "# predict probabilities\n",
        "pred_prob1 = BNBmodel.predict_proba(X_test)\n",
        "pred_prob2 = clf.predict_proba(X_test)\n",
        "pred_prob3 = LRmodel.predict_proba(X_test)"
      ],
      "metadata": {
        "id": "j1qZNJcnEF1D"
      },
      "execution_count": 13,
      "outputs": []
    },
    {
      "cell_type": "code",
      "source": [
        "# roc curve for models\n",
        "fpr1, tpr1, thresh1 = roc_curve(y_test, pred_prob1[:,1], pos_label=1)\n",
        "fpr2, tpr2, thresh2 = roc_curve(y_test, pred_prob2[:,1], pos_label=1)\n",
        "fpr3, tpr3, thresh3 = roc_curve(y_test, pred_prob3[:,1], pos_label=1)\n",
        "\n",
        "# roc curve for tpr = fpr \n",
        "random_probs = [0 for i in range(len(y_test))]\n",
        "p_fpr, p_tpr, _ = roc_curve(y_test, random_probs, pos_label=1)"
      ],
      "metadata": {
        "id": "voS6T3YaEF3h"
      },
      "execution_count": 14,
      "outputs": []
    },
    {
      "cell_type": "code",
      "source": [
        "# auc scores\n",
        "auc_score1 = roc_auc_score(y_test, pred_prob1[:,1])\n",
        "auc_score2 = roc_auc_score(y_test, pred_prob2[:,1])\n",
        "auc_score3 = roc_auc_score(y_test, pred_prob3[:,1])\n",
        "\n",
        "print(auc_score1, auc_score2, auc_score3)"
      ],
      "metadata": {
        "colab": {
          "base_uri": "https://localhost:8080/"
        },
        "id": "NFksynELEF6R",
        "outputId": "09eef87b-5142-43cb-ac4e-de12ebfe8607"
      },
      "execution_count": 15,
      "outputs": [
        {
          "output_type": "stream",
          "name": "stdout",
          "text": [
            "0.961789484253084 0.9856354843630805 0.979150739726956\n"
          ]
        }
      ]
    },
    {
      "cell_type": "code",
      "source": [
        "plt.style.use('seaborn')\n",
        "\n",
        "# plot roc curves\n",
        "plt.plot(fpr1, tpr1, linestyle='--',color='yellow', label='Bernoulli Naive Bayes')\n",
        "plt.plot(fpr2, tpr2, linestyle='--',color='red', label='Linear Support Vector Classification')\n",
        "plt.plot(fpr3, tpr3, linestyle='--',color='green', label='Logistic Regression')\n",
        "plt.plot(p_fpr, p_tpr, linestyle='--', color='blue')\n",
        "# title\n",
        "plt.title('ROC curve')\n",
        "# x label\n",
        "plt.xlabel('False Positive Rate')\n",
        "# y label\n",
        "plt.ylabel('True Positive rate')\n",
        "\n",
        "plt.legend(loc='best')\n",
        "plt.savefig('ROC',dpi=300)\n",
        "plt.show();"
      ],
      "metadata": {
        "colab": {
          "base_uri": "https://localhost:8080/",
          "height": 376
        },
        "id": "97A--OmpEF8w",
        "outputId": "0156f17c-3fde-48e2-a481-5fe30cacc838"
      },
      "execution_count": 17,
      "outputs": [
        {
          "output_type": "display_data",
          "data": {
            "image/png": "[encoded data removed]",
            "text/plain": [
              "<Figure size 576x396 with 1 Axes>"
            ]
          },
          "metadata": {}
        }
      ]
    },
    {
      "cell_type": "code",
      "source": [
        ""
      ],
      "metadata": {
        "id": "ivIX2WZK-Ti2"
      },
      "execution_count": null,
      "outputs": []
    },
    {
      "cell_type": "code",
      "source": [
        "\n"
      ],
      "metadata": {
        "id": "M6-D38N7-To_"
      },
      "execution_count": null,
      "outputs": []
    },
    {
      "cell_type": "code",
      "source": [
        ""
      ],
      "metadata": {
        "id": "ZIRrrmCC-TsH"
      },
      "execution_count": null,
      "outputs": []
    }
  ]
}