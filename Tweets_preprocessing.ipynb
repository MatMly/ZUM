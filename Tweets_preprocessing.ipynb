{
  "nbformat": 4,
  "nbformat_minor": 0,
  "metadata": {
    "colab": {
      "name": "Tweets_preprocessing.ipynb",
      "provenance": [],
      "collapsed_sections": []
    },
    "kernelspec": {
      "display_name": "Python 3",
      "language": "python",
      "name": "python3"
    }
  },
  "cells": [
    {
      "cell_type": "markdown",
      "source": [
        "# Tweets Preprocessing"
      ],
      "metadata": {
        "id": "zXap4rTSLfH0"
      }
    },
    {
      "cell_type": "code",
      "source": [
        "!python -m pip install spacy==2.3.2 -q\n",
        "!python -m spacy download pl_core_news_md  -q"
      ],
      "metadata": {
        "id": "CXhRsGwHL6JK",
        "colab": {
          "base_uri": "https://localhost:8080/"
        },
        "outputId": "74d58809-45ac-4c07-dd7b-25abfa5147ba"
      },
      "execution_count": 6,
      "outputs": [
        {
          "output_type": "stream",
          "name": "stdout",
          "text": [
            "\u001b[K     |████████████████████████████████| 9.9 MB 4.1 MB/s \n",
            "\u001b[K     |████████████████████████████████| 2.1 MB 44.3 MB/s \n",
            "\u001b[K     |████████████████████████████████| 79.9 MB 518 kB/s \n",
            "\u001b[?25h  Building wheel for pl-core-news-md (setup.py) ... \u001b[?25l\u001b[?25hdone\n",
            "\u001b[38;5;2m✔ Download and installation successful\u001b[0m\n",
            "You can now load the model via spacy.load('pl_core_news_md')\n"
          ]
        }
      ]
    },
    {
      "cell_type": "code",
      "metadata": {
        "id": "5H_e0_zm3OS2"
      },
      "source": [
        "import os\n",
        "import tweepy as tw\n",
        "import pandas as pd\n",
        "import numpy as np\n",
        "import time\n",
        "import spacy\n",
        "import nltk\n",
        "from nltk.stem import WordNetLemmatizer\n",
        "import re\n",
        "from gensim.models.phrases import Phrases, Phraser\n",
        "from gensim.models import Word2Vec\n",
        "from wordcloud import WordCloud\n",
        "import multiprocessing\n",
        "from sklearn.cluster import KMeans\n",
        "import seaborn as sns\n",
        "from wordcloud import WordCloud\n",
        "import matplotlib.pyplot as plt"
      ],
      "execution_count": 2,
      "outputs": []
    },
    {
      "cell_type": "code",
      "source": [
        "from google.colab import drive\n",
        "drive.mount('/content/drive')"
      ],
      "metadata": {
        "colab": {
          "base_uri": "https://localhost:8080/"
        },
        "id": "mY7C2CynQtKv",
        "outputId": "2f08afe7-ba56-417a-f01e-be63326b4c48"
      },
      "execution_count": 3,
      "outputs": [
        {
          "output_type": "stream",
          "name": "stdout",
          "text": [
            "Drive already mounted at /content/drive; to attempt to forcibly remount, call drive.mount(\"/content/drive\", force_remount=True).\n"
          ]
        }
      ]
    },
    {
      "cell_type": "markdown",
      "source": [
        "## Pobranie tweetów\n",
        "\n",
        "## plik txt załączony - nie uruchamiamy ponownie"
      ],
      "metadata": {
        "id": "mMUodJX7MikF"
      }
    },
    {
      "cell_type": "code",
      "metadata": {
        "id": "zpPpVHEN3OS6"
      },
      "source": [
        "api_key = 'XX'\n",
        "api_key_secret = 'XX'\n",
        "access_token = 'XX'\n",
        "access_token_secret = 'XX'"
      ],
      "execution_count": null,
      "outputs": []
    },
    {
      "cell_type": "code",
      "source": [
        "auth = tw.OAuthHandler(api_key, api_key_secret)\n",
        "auth.set_access_token(access_token, access_token_secret)\n",
        "api = tw.API(auth, wait_on_rate_limit=True)"
      ],
      "metadata": {
        "id": "0qP7SB8L_-6t"
      },
      "execution_count": null,
      "outputs": []
    },
    {
      "cell_type": "code",
      "source": [
        "f =  open('/content/drive/MyDrive/ZUM projekt/pl_covid_tweets_clean.txt') \n",
        "f1 =f.readlines()"
      ],
      "metadata": {
        "id": "OWpIIUS5__En"
      },
      "execution_count": null,
      "outputs": []
    },
    {
      "cell_type": "code",
      "source": [
        "df = pd.DataFrame(f1)\n",
        "df = df[0].str.split(expand=True,)\n",
        "df = df[0][1:]\n",
        "df = pd.DataFrame(df)\n",
        "df.columns = ['tweet_id']"
      ],
      "metadata": {
        "id": "RiK3dRWe5Qp0"
      },
      "execution_count": null,
      "outputs": []
    },
    {
      "cell_type": "code",
      "source": [
        "tweet_txt = []\n",
        "sec = 0 \n",
        "a = 0\n",
        "b = 100\n",
        "while sec < round(len(df)/100):\n",
        "  try:\n",
        "    tweets = api.statuses_lookup(list(df['tweet_id'][a:b]))\n",
        "    for i in tweets:\n",
        "      tweet_txt.append(i.text)\n",
        "   \n",
        "    if (sec % 100) == 0:\n",
        "      with open('/content/drive/MyDrive/ZUM projekt/pl_covid_tweets.txt', 'w') as f:\n",
        "        for item in tweet_txt:\n",
        "          item = item.replace('\\n', ' ')\n",
        "          f.write(\"%s\\n\" % item)\n",
        "      print(\"sequence number:\", sec)\n",
        "    sec+=1\n",
        "    a = 100 * sec\n",
        "    b = 100 + 100 * sec\n",
        "\n",
        "  except BaseException as e:\n",
        "          print('failed on_status,',str(e)) \n",
        "          time.sleep(5) "
      ],
      "metadata": {
        "id": "pN6adUBXtJBT"
      },
      "execution_count": null,
      "outputs": []
    },
    {
      "cell_type": "markdown",
      "source": [
        "####Wczytanie tweetów z pliku tekstowego"
      ],
      "metadata": {
        "id": "5ls4nqW0jJ8y"
      }
    },
    {
      "cell_type": "code",
      "source": [
        "raw_data = pd.read_csv(f'/content/drive/MyDrive/ZUM projekt/pl_covid_tweets.txt', sep='delimiter', header = None)"
      ],
      "metadata": {
        "id": "t5XpASGfjJTy",
        "colab": {
          "base_uri": "https://localhost:8080/"
        },
        "outputId": "4d22a1cd-ccd1-42b4-c7c3-fe48db1bc175"
      },
      "execution_count": 4,
      "outputs": [
        {
          "output_type": "stream",
          "name": "stderr",
          "text": [
            "/usr/local/lib/python3.7/dist-packages/ipykernel_launcher.py:1: ParserWarning: Falling back to the 'python' engine because the 'c' engine does not support regex separators (separators > 1 char and different from '\\s+' are interpreted as regex); you can avoid this warning by specifying engine='python'.\n",
            "  \"\"\"Entry point for launching an IPython kernel.\n"
          ]
        }
      ]
    },
    {
      "cell_type": "code",
      "source": [
        "raw_data.columns = ['tweet']\n",
        "raw_data[:5]"
      ],
      "metadata": {
        "id": "jJGEWvxgjyOy",
        "colab": {
          "base_uri": "https://localhost:8080/",
          "height": 206
        },
        "outputId": "9f55b8e6-b03b-49e7-c403-b4ddf02469b5"
      },
      "execution_count": 5,
      "outputs": [
        {
          "output_type": "execute_result",
          "data": {
            "text/html": [
              "\n",
              "  <div id=\"df-0932b8a9-68b1-4332-8f3d-41513c6fb10c\">\n",
              "    <div class=\"colab-df-container\">\n",
              "      <div>\n",
              "<style scoped>\n",
              "    .dataframe tbody tr th:only-of-type {\n",
              "        vertical-align: middle;\n",
              "    }\n",
              "\n",
              "    .dataframe tbody tr th {\n",
              "        vertical-align: top;\n",
              "    }\n",
              "\n",
              "    .dataframe thead th {\n",
              "        text-align: right;\n",
              "    }\n",
              "</style>\n",
              "<table border=\"1\" class=\"dataframe\">\n",
              "  <thead>\n",
              "    <tr style=\"text-align: right;\">\n",
              "      <th></th>\n",
              "      <th>tweet</th>\n",
              "    </tr>\n",
              "  </thead>\n",
              "  <tbody>\n",
              "    <tr>\n",
              "      <th>0</th>\n",
              "      <td>Kiedy #coronavirus dotrze do Polski, napotka o...</td>\n",
              "    </tr>\n",
              "    <tr>\n",
              "      <th>1</th>\n",
              "      <td>Kolejni Polacy chcą wrócić z Wuhan https://t.c...</td>\n",
              "    </tr>\n",
              "    <tr>\n",
              "      <th>2</th>\n",
              "      <td>A tymczasem w Wuhan odcięto od reszty świata o...</td>\n",
              "    </tr>\n",
              "    <tr>\n",
              "      <th>3</th>\n",
              "      <td>@PatrykWachowiec @KancelariaSejmu nie zdziwię ...</td>\n",
              "    </tr>\n",
              "    <tr>\n",
              "      <th>4</th>\n",
              "      <td>.@MSZ_RP: 19 Polaków chce wrócić z Wuhan, w am...</td>\n",
              "    </tr>\n",
              "  </tbody>\n",
              "</table>\n",
              "</div>\n",
              "      <button class=\"colab-df-convert\" onclick=\"convertToInteractive('df-0932b8a9-68b1-4332-8f3d-41513c6fb10c')\"\n",
              "              title=\"Convert this dataframe to an interactive table.\"\n",
              "              style=\"display:none;\">\n",
              "        \n",
              "  <svg xmlns=\"http://www.w3.org/2000/svg\" height=\"24px\"viewBox=\"0 0 24 24\"\n",
              "       width=\"24px\">\n",
              "    <path d=\"M0 0h24v24H0V0z\" fill=\"none\"/>\n",
              "    <path d=\"M18.56 5.44l.94 2.06.94-2.06 2.06-.94-2.06-.94-.94-2.06-.94 2.06-2.06.94zm-11 1L8.5 8.5l.94-2.06 2.06-.94-2.06-.94L8.5 2.5l-.94 2.06-2.06.94zm10 10l.94 2.06.94-2.06 2.06-.94-2.06-.94-.94-2.06-.94 2.06-2.06.94z\"/><path d=\"M17.41 7.96l-1.37-1.37c-.4-.4-.92-.59-1.43-.59-.52 0-1.04.2-1.43.59L10.3 9.45l-7.72 7.72c-.78.78-.78 2.05 0 2.83L4 21.41c.39.39.9.59 1.41.59.51 0 1.02-.2 1.41-.59l7.78-7.78 2.81-2.81c.8-.78.8-2.07 0-2.86zM5.41 20L4 18.59l7.72-7.72 1.47 1.35L5.41 20z\"/>\n",
              "  </svg>\n",
              "      </button>\n",
              "      \n",
              "  <style>\n",
              "    .colab-df-container {\n",
              "      display:flex;\n",
              "      flex-wrap:wrap;\n",
              "      gap: 12px;\n",
              "    }\n",
              "\n",
              "    .colab-df-convert {\n",
              "      background-color: #E8F0FE;\n",
              "      border: none;\n",
              "      border-radius: 50%;\n",
              "      cursor: pointer;\n",
              "      display: none;\n",
              "      fill: #1967D2;\n",
              "      height: 32px;\n",
              "      padding: 0 0 0 0;\n",
              "      width: 32px;\n",
              "    }\n",
              "\n",
              "    .colab-df-convert:hover {\n",
              "      background-color: #E2EBFA;\n",
              "      box-shadow: 0px 1px 2px rgba(60, 64, 67, 0.3), 0px 1px 3px 1px rgba(60, 64, 67, 0.15);\n",
              "      fill: #174EA6;\n",
              "    }\n",
              "\n",
              "    [theme=dark] .colab-df-convert {\n",
              "      background-color: #3B4455;\n",
              "      fill: #D2E3FC;\n",
              "    }\n",
              "\n",
              "    [theme=dark] .colab-df-convert:hover {\n",
              "      background-color: #434B5C;\n",
              "      box-shadow: 0px 1px 3px 1px rgba(0, 0, 0, 0.15);\n",
              "      filter: drop-shadow(0px 1px 2px rgba(0, 0, 0, 0.3));\n",
              "      fill: #FFFFFF;\n",
              "    }\n",
              "  </style>\n",
              "\n",
              "      <script>\n",
              "        const buttonEl =\n",
              "          document.querySelector('#df-0932b8a9-68b1-4332-8f3d-41513c6fb10c button.colab-df-convert');\n",
              "        buttonEl.style.display =\n",
              "          google.colab.kernel.accessAllowed ? 'block' : 'none';\n",
              "\n",
              "        async function convertToInteractive(key) {\n",
              "          const element = document.querySelector('#df-0932b8a9-68b1-4332-8f3d-41513c6fb10c');\n",
              "          const dataTable =\n",
              "            await google.colab.kernel.invokeFunction('convertToInteractive',\n",
              "                                                     [key], {});\n",
              "          if (!dataTable) return;\n",
              "\n",
              "          const docLinkHtml = 'Like what you see? Visit the ' +\n",
              "            '<a target=\"_blank\" href=https://colab.research.google.com/notebooks/data_table.ipynb>data table notebook</a>'\n",
              "            + ' to learn more about interactive tables.';\n",
              "          element.innerHTML = '';\n",
              "          dataTable['output_type'] = 'display_data';\n",
              "          await google.colab.output.renderOutput(dataTable, element);\n",
              "          const docLink = document.createElement('div');\n",
              "          docLink.innerHTML = docLinkHtml;\n",
              "          element.appendChild(docLink);\n",
              "        }\n",
              "      </script>\n",
              "    </div>\n",
              "  </div>\n",
              "  "
            ],
            "text/plain": [
              "                                               tweet\n",
              "0  Kiedy #coronavirus dotrze do Polski, napotka o...\n",
              "1  Kolejni Polacy chcą wrócić z Wuhan https://t.c...\n",
              "2  A tymczasem w Wuhan odcięto od reszty świata o...\n",
              "3  @PatrykWachowiec @KancelariaSejmu nie zdziwię ...\n",
              "4  .@MSZ_RP: 19 Polaków chce wrócić z Wuhan, w am..."
            ]
          },
          "metadata": {},
          "execution_count": 5
        }
      ]
    },
    {
      "cell_type": "markdown",
      "source": [
        "## Czyszczenie i obróbka danych"
      ],
      "metadata": {
        "id": "KYKvMrHxkKeb"
      }
    },
    {
      "cell_type": "code",
      "source": [
        "nlp = spacy.load('pl_core_news_md')\n",
        "lemma = WordNetLemmatizer()\n",
        "nltk.download('wordnet')\n",
        "stopwordlist = nlp.Defaults.stop_words"
      ],
      "metadata": {
        "id": "XrDmQa0AuF6c",
        "colab": {
          "base_uri": "https://localhost:8080/"
        },
        "outputId": "4426ef2d-c69b-4cb5-b73d-666f076570ad"
      },
      "execution_count": 6,
      "outputs": [
        {
          "output_type": "stream",
          "name": "stdout",
          "text": [
            "[nltk_data] Downloading package wordnet to /root/nltk_data...\n",
            "[nltk_data]   Unzipping corpora/wordnet.zip.\n"
          ]
        }
      ]
    },
    {
      "cell_type": "code",
      "source": [
        "raw_data['tweet'].drop_duplicates(keep=\"first\", inplace=True)"
      ],
      "metadata": {
        "id": "EJOuClenuFw-"
      },
      "execution_count": 7,
      "outputs": []
    },
    {
      "cell_type": "code",
      "source": [
        "emoji_pattern = re.compile(\"[\"\n",
        "        u\"\\U0001F600-\\U0001F64F\"  # emoticons\n",
        "        u\"\\U0001F300-\\U0001F5FF\"  # symbols & pictographs\n",
        "        u\"\\U0001F680-\\U0001F6FF\"  # transport & map symbols\n",
        "        u\"\\U0001F1E0-\\U0001F1FF\"  # flags (iOS)\n",
        "                           \"]+\", flags=re.UNICODE)"
      ],
      "metadata": {
        "id": "NT2wNBCnxJBp"
      },
      "execution_count": 8,
      "outputs": []
    },
    {
      "cell_type": "code",
      "source": [
        "def clean_text(text):\n",
        "    text = text.lower()\n",
        "    text = re.sub('https?:\\/\\/[a-zA-Z0-9@:%._\\/+~#=?&;-]*', ' ', text)\n",
        "    text = re.sub('\\$[a-zA-Z0-9]*', ' ', text)\n",
        "    text = re.sub('\\@[a-zA-Z0-9]*', ' ', text)\n",
        "    text = re.sub('[^a-zA-Z\\']', ' ', text)\n",
        "    text = re.sub('\\t', '', text)\n",
        "    text = re.sub('\\S*@\\S*\\s?', ' ',text)\n",
        "    text = emoji_pattern.sub(r'', text)\n",
        "    text = ' '.join( [w for w in text.split() if len(w)>1] )\n",
        "    text = ' '.join([lemma.lemmatize(x) for x in nltk.wordpunct_tokenize(text) if x not in stopwordlist])\n",
        "    text = [lemma.lemmatize(x,nltk.corpus.reader.wordnet.VERB) for x in nltk.wordpunct_tokenize(text) if x not in stopwordlist]\n",
        "    return text "
      ],
      "metadata": {
        "id": "zjEokKbVtI_B"
      },
      "execution_count": 9,
      "outputs": []
    },
    {
      "cell_type": "code",
      "source": [
        "raw_data['clean_text'] = raw_data['tweet'].apply(clean_text)\n",
        "raw_data.dropna(subset = [\"clean_text\"], inplace=True)\n",
        "raw_data['cleaned_text'] = raw_data['clean_text'].apply(lambda x:' '.join(x))\n",
        "raw_data.head()"
      ],
      "metadata": {
        "id": "C7o0sPE-9Qna",
        "colab": {
          "base_uri": "https://localhost:8080/",
          "height": 206
        },
        "outputId": "142e9a83-bec9-4091-f8b3-69ff0f982f6f"
      },
      "execution_count": 10,
      "outputs": [
        {
          "output_type": "execute_result",
          "data": {
            "text/html": [
              "\n",
              "  <div id=\"df-1a85d867-0a13-4dd9-ae16-8c9bf2b5aab4\">\n",
              "    <div class=\"colab-df-container\">\n",
              "      <div>\n",
              "<style scoped>\n",
              "    .dataframe tbody tr th:only-of-type {\n",
              "        vertical-align: middle;\n",
              "    }\n",
              "\n",
              "    .dataframe tbody tr th {\n",
              "        vertical-align: top;\n",
              "    }\n",
              "\n",
              "    .dataframe thead th {\n",
              "        text-align: right;\n",
              "    }\n",
              "</style>\n",
              "<table border=\"1\" class=\"dataframe\">\n",
              "  <thead>\n",
              "    <tr style=\"text-align: right;\">\n",
              "      <th></th>\n",
              "      <th>tweet</th>\n",
              "      <th>clean_text</th>\n",
              "      <th>cleaned_text</th>\n",
              "    </tr>\n",
              "  </thead>\n",
              "  <tbody>\n",
              "    <tr>\n",
              "      <th>0</th>\n",
              "      <td>Kiedy #coronavirus dotrze do Polski, napotka o...</td>\n",
              "      <td>[coronavirus, dotrze, polski, napotka, op, zna...</td>\n",
              "      <td>coronavirus dotrze polski napotka op znakomici...</td>\n",
              "    </tr>\n",
              "    <tr>\n",
              "      <th>1</th>\n",
              "      <td>Kolejni Polacy chcą wrócić z Wuhan https://t.c...</td>\n",
              "      <td>[kolejni, polacy, chc, wr, wuhan]</td>\n",
              "      <td>kolejni polacy chc wr wuhan</td>\n",
              "    </tr>\n",
              "    <tr>\n",
              "      <th>2</th>\n",
              "      <td>A tymczasem w Wuhan odcięto od reszty świata o...</td>\n",
              "      <td>[tymczasem, wuhan, odci, reszty, wiata, obszar...</td>\n",
              "      <td>tymczasem wuhan odci reszty wiata obszar por w...</td>\n",
              "    </tr>\n",
              "    <tr>\n",
              "      <th>3</th>\n",
              "      <td>@PatrykWachowiec @KancelariaSejmu nie zdziwię ...</td>\n",
              "      <td>[zdziwi, si, powiedz, listy, pojecha, chin, wu...</td>\n",
              "      <td>zdziwi si powiedz listy pojecha chin wuhan odw...</td>\n",
              "    </tr>\n",
              "    <tr>\n",
              "      <th>4</th>\n",
              "      <td>.@MSZ_RP: 19 Polaków chce wrócić z Wuhan, w am...</td>\n",
              "      <td>[rp, polak, wr, wuhan, ambasadzie, rp, pekinie...</td>\n",
              "      <td>rp polak wr wuhan ambasadzie rp pekinie powo a...</td>\n",
              "    </tr>\n",
              "  </tbody>\n",
              "</table>\n",
              "</div>\n",
              "      <button class=\"colab-df-convert\" onclick=\"convertToInteractive('df-1a85d867-0a13-4dd9-ae16-8c9bf2b5aab4')\"\n",
              "              title=\"Convert this dataframe to an interactive table.\"\n",
              "              style=\"display:none;\">\n",
              "        \n",
              "  <svg xmlns=\"http://www.w3.org/2000/svg\" height=\"24px\"viewBox=\"0 0 24 24\"\n",
              "       width=\"24px\">\n",
              "    <path d=\"M0 0h24v24H0V0z\" fill=\"none\"/>\n",
              "    <path d=\"M18.56 5.44l.94 2.06.94-2.06 2.06-.94-2.06-.94-.94-2.06-.94 2.06-2.06.94zm-11 1L8.5 8.5l.94-2.06 2.06-.94-2.06-.94L8.5 2.5l-.94 2.06-2.06.94zm10 10l.94 2.06.94-2.06 2.06-.94-2.06-.94-.94-2.06-.94 2.06-2.06.94z\"/><path d=\"M17.41 7.96l-1.37-1.37c-.4-.4-.92-.59-1.43-.59-.52 0-1.04.2-1.43.59L10.3 9.45l-7.72 7.72c-.78.78-.78 2.05 0 2.83L4 21.41c.39.39.9.59 1.41.59.51 0 1.02-.2 1.41-.59l7.78-7.78 2.81-2.81c.8-.78.8-2.07 0-2.86zM5.41 20L4 18.59l7.72-7.72 1.47 1.35L5.41 20z\"/>\n",
              "  </svg>\n",
              "      </button>\n",
              "      \n",
              "  <style>\n",
              "    .colab-df-container {\n",
              "      display:flex;\n",
              "      flex-wrap:wrap;\n",
              "      gap: 12px;\n",
              "    }\n",
              "\n",
              "    .colab-df-convert {\n",
              "      background-color: #E8F0FE;\n",
              "      border: none;\n",
              "      border-radius: 50%;\n",
              "      cursor: pointer;\n",
              "      display: none;\n",
              "      fill: #1967D2;\n",
              "      height: 32px;\n",
              "      padding: 0 0 0 0;\n",
              "      width: 32px;\n",
              "    }\n",
              "\n",
              "    .colab-df-convert:hover {\n",
              "      background-color: #E2EBFA;\n",
              "      box-shadow: 0px 1px 2px rgba(60, 64, 67, 0.3), 0px 1px 3px 1px rgba(60, 64, 67, 0.15);\n",
              "      fill: #174EA6;\n",
              "    }\n",
              "\n",
              "    [theme=dark] .colab-df-convert {\n",
              "      background-color: #3B4455;\n",
              "      fill: #D2E3FC;\n",
              "    }\n",
              "\n",
              "    [theme=dark] .colab-df-convert:hover {\n",
              "      background-color: #434B5C;\n",
              "      box-shadow: 0px 1px 3px 1px rgba(0, 0, 0, 0.15);\n",
              "      filter: drop-shadow(0px 1px 2px rgba(0, 0, 0, 0.3));\n",
              "      fill: #FFFFFF;\n",
              "    }\n",
              "  </style>\n",
              "\n",
              "      <script>\n",
              "        const buttonEl =\n",
              "          document.querySelector('#df-1a85d867-0a13-4dd9-ae16-8c9bf2b5aab4 button.colab-df-convert');\n",
              "        buttonEl.style.display =\n",
              "          google.colab.kernel.accessAllowed ? 'block' : 'none';\n",
              "\n",
              "        async function convertToInteractive(key) {\n",
              "          const element = document.querySelector('#df-1a85d867-0a13-4dd9-ae16-8c9bf2b5aab4');\n",
              "          const dataTable =\n",
              "            await google.colab.kernel.invokeFunction('convertToInteractive',\n",
              "                                                     [key], {});\n",
              "          if (!dataTable) return;\n",
              "\n",
              "          const docLinkHtml = 'Like what you see? Visit the ' +\n",
              "            '<a target=\"_blank\" href=https://colab.research.google.com/notebooks/data_table.ipynb>data table notebook</a>'\n",
              "            + ' to learn more about interactive tables.';\n",
              "          element.innerHTML = '';\n",
              "          dataTable['output_type'] = 'display_data';\n",
              "          await google.colab.output.renderOutput(dataTable, element);\n",
              "          const docLink = document.createElement('div');\n",
              "          docLink.innerHTML = docLinkHtml;\n",
              "          element.appendChild(docLink);\n",
              "        }\n",
              "      </script>\n",
              "    </div>\n",
              "  </div>\n",
              "  "
            ],
            "text/plain": [
              "                                               tweet  ...                                       cleaned_text\n",
              "0  Kiedy #coronavirus dotrze do Polski, napotka o...  ...  coronavirus dotrze polski napotka op znakomici...\n",
              "1  Kolejni Polacy chcą wrócić z Wuhan https://t.c...  ...                        kolejni polacy chc wr wuhan\n",
              "2  A tymczasem w Wuhan odcięto od reszty świata o...  ...  tymczasem wuhan odci reszty wiata obszar por w...\n",
              "3  @PatrykWachowiec @KancelariaSejmu nie zdziwię ...  ...  zdziwi si powiedz listy pojecha chin wuhan odw...\n",
              "4  .@MSZ_RP: 19 Polaków chce wrócić z Wuhan, w am...  ...  rp polak wr wuhan ambasadzie rp pekinie powo a...\n",
              "\n",
              "[5 rows x 3 columns]"
            ]
          },
          "metadata": {},
          "execution_count": 10
        }
      ]
    },
    {
      "cell_type": "markdown",
      "source": [
        "## **Labeling**\n",
        "\n",
        "2 klasy - pozytywna i negatywna\n"
      ],
      "metadata": {
        "id": "iFEABW-KM84J"
      }
    },
    {
      "cell_type": "code",
      "source": [
        "sent = [row for row in raw_data['clean_text']]\n",
        "phrases = Phrases(sent, min_count=1, progress_per=500000)\n",
        "bigram = Phraser(phrases)\n",
        "sentences = bigram[sent]"
      ],
      "metadata": {
        "id": "XV3iu_7I3WtS"
      },
      "execution_count": 11,
      "outputs": []
    },
    {
      "cell_type": "code",
      "source": [
        "w2v_model = Word2Vec(min_count=4,\n",
        "                     window=5,\n",
        "                     size =300,\n",
        "                     sample=1e-5, \n",
        "                     alpha=0.03, \n",
        "                     min_alpha=0.0007, \n",
        "                     negative=20,\n",
        "                     seed= 42,\n",
        "                     workers=multiprocessing.cpu_count()-1)\n",
        "\n",
        "\n",
        "w2v_model.build_vocab(sentences, progress_per= 500000)"
      ],
      "metadata": {
        "id": "ElMoHg644SqV"
      },
      "execution_count": 12,
      "outputs": []
    },
    {
      "cell_type": "code",
      "source": [
        "w2v_model.train(sentences, total_examples=w2v_model.corpus_count, epochs=30, report_delay=1)"
      ],
      "metadata": {
        "colab": {
          "base_uri": "https://localhost:8080/"
        },
        "id": "QHQJwYo44-gH",
        "outputId": "f5b6345e-8d3c-4c96-a744-7b2900984b3f"
      },
      "execution_count": 13,
      "outputs": [
        {
          "output_type": "execute_result",
          "data": {
            "text/plain": [
              "(45852883, 98996850)"
            ]
          },
          "metadata": {},
          "execution_count": 13
        }
      ]
    },
    {
      "cell_type": "code",
      "source": [
        "w2v_model.save(\"/content/drive/MyDrive/ZUM projekt/word2vec.model\")"
      ],
      "metadata": {
        "id": "lyPvOxqK51ue"
      },
      "execution_count": 14,
      "outputs": []
    },
    {
      "cell_type": "code",
      "source": [
        "word_vectors = Word2Vec.load(\"/content/drive/MyDrive/ZUM projekt/word2vec.model\").wv"
      ],
      "metadata": {
        "id": "LPKBaIzo51nN"
      },
      "execution_count": 15,
      "outputs": []
    },
    {
      "cell_type": "code",
      "source": [
        "model = KMeans(n_clusters=2, max_iter=1000, random_state=42, n_init=50).fit(X=word_vectors.vectors.astype('double'))\n",
        "positive_cluster_center = model.cluster_centers_[1]\n",
        "negative_cluster_center = model.cluster_centers_[0]"
      ],
      "metadata": {
        "id": "v4QIZQrj51e2"
      },
      "execution_count": 16,
      "outputs": []
    },
    {
      "cell_type": "code",
      "source": [
        "words = pd.DataFrame(word_vectors.index2entity)\n",
        "words.columns = ['words']\n",
        "words['vectors'] = words.words.apply(lambda x: word_vectors[f'{x}'])\n",
        "words['cluster'] = words.vectors.apply(lambda x: model.predict([np.array(x)]))\n",
        "words.cluster = words.cluster.apply(lambda x: x[0])"
      ],
      "metadata": {
        "id": "h40Iqk8_8W0n"
      },
      "execution_count": 17,
      "outputs": []
    },
    {
      "cell_type": "code",
      "source": [
        "words['cluster_value'] = [1 if i==1 else 0 if i==0 else -1 for i in words.cluster]\n",
        "words['closeness_score'] = words.apply(lambda x: 1/(model.transform([x.vectors]).min()), axis=1)"
      ],
      "metadata": {
        "id": "3mjS_P_lBit7"
      },
      "execution_count": 18,
      "outputs": []
    },
    {
      "cell_type": "code",
      "source": [
        "words[words[\"cluster_value\"]==1].sort_values(\"closeness_score\")"
      ],
      "metadata": {
        "colab": {
          "base_uri": "https://localhost:8080/",
          "height": 423
        },
        "id": "bByQZQ0IBtPv",
        "outputId": "db7521b0-fd97-45eb-f62c-f9cdf7611af2"
      },
      "execution_count": 19,
      "outputs": [
        {
          "output_type": "execute_result",
          "data": {
            "text/html": [
              "\n",
              "  <div id=\"df-93c3d9c6-b023-4b81-8331-77451f04819d\">\n",
              "    <div class=\"colab-df-container\">\n",
              "      <div>\n",
              "<style scoped>\n",
              "    .dataframe tbody tr th:only-of-type {\n",
              "        vertical-align: middle;\n",
              "    }\n",
              "\n",
              "    .dataframe tbody tr th {\n",
              "        vertical-align: top;\n",
              "    }\n",
              "\n",
              "    .dataframe thead th {\n",
              "        text-align: right;\n",
              "    }\n",
              "</style>\n",
              "<table border=\"1\" class=\"dataframe\">\n",
              "  <thead>\n",
              "    <tr style=\"text-align: right;\">\n",
              "      <th></th>\n",
              "      <th>words</th>\n",
              "      <th>vectors</th>\n",
              "      <th>cluster</th>\n",
              "      <th>cluster_value</th>\n",
              "      <th>closeness_score</th>\n",
              "    </tr>\n",
              "  </thead>\n",
              "  <tbody>\n",
              "    <tr>\n",
              "      <th>3564</th>\n",
              "      <td>eczno_ciowych</td>\n",
              "      <td>[0.08156455, 0.0057711527, -0.87826437, 0.7308...</td>\n",
              "      <td>1</td>\n",
              "      <td>1</td>\n",
              "      <td>0.068745</td>\n",
              "    </tr>\n",
              "    <tr>\n",
              "      <th>3625</th>\n",
              "      <td>mediach_spo</td>\n",
              "      <td>[0.67832965, -0.24479063, -0.9093826, 0.039651...</td>\n",
              "      <td>1</td>\n",
              "      <td>1</td>\n",
              "      <td>0.071756</td>\n",
              "    </tr>\n",
              "    <tr>\n",
              "      <th>4541</th>\n",
              "      <td>eczny</td>\n",
              "      <td>[0.9698743, -1.0646765, -1.10294, 0.84433377, ...</td>\n",
              "      <td>1</td>\n",
              "      <td>1</td>\n",
              "      <td>0.073067</td>\n",
              "    </tr>\n",
              "    <tr>\n",
              "      <th>4483</th>\n",
              "      <td>dystans_spo</td>\n",
              "      <td>[0.5608451, -0.3645783, -1.322178, 0.6733994, ...</td>\n",
              "      <td>1</td>\n",
              "      <td>1</td>\n",
              "      <td>0.073109</td>\n",
              "    </tr>\n",
              "    <tr>\n",
              "      <th>3766</th>\n",
              "      <td>dek</td>\n",
              "      <td>[-0.14354123, 0.18081386, 0.52652854, -0.06948...</td>\n",
              "      <td>1</td>\n",
              "      <td>1</td>\n",
              "      <td>0.082480</td>\n",
              "    </tr>\n",
              "    <tr>\n",
              "      <th>...</th>\n",
              "      <td>...</td>\n",
              "      <td>...</td>\n",
              "      <td>...</td>\n",
              "      <td>...</td>\n",
              "      <td>...</td>\n",
              "    </tr>\n",
              "    <tr>\n",
              "      <th>81056</th>\n",
              "      <td>zyk_obcych</td>\n",
              "      <td>[0.16164489, 0.046824005, 0.05773933, -0.00617...</td>\n",
              "      <td>1</td>\n",
              "      <td>1</td>\n",
              "      <td>3.093711</td>\n",
              "    </tr>\n",
              "    <tr>\n",
              "      <th>79867</th>\n",
              "      <td>idiotycznymi</td>\n",
              "      <td>[0.13619573, -0.023086563, 0.021755671, -0.024...</td>\n",
              "      <td>1</td>\n",
              "      <td>1</td>\n",
              "      <td>3.094166</td>\n",
              "    </tr>\n",
              "    <tr>\n",
              "      <th>78264</th>\n",
              "      <td>berety</td>\n",
              "      <td>[0.16011317, 0.029354291, 0.042498995, -0.0420...</td>\n",
              "      <td>1</td>\n",
              "      <td>1</td>\n",
              "      <td>3.174593</td>\n",
              "    </tr>\n",
              "    <tr>\n",
              "      <th>82156</th>\n",
              "      <td>posle</td>\n",
              "      <td>[0.17905961, 0.011911566, 0.042256333, -0.0420...</td>\n",
              "      <td>1</td>\n",
              "      <td>1</td>\n",
              "      <td>3.196658</td>\n",
              "    </tr>\n",
              "    <tr>\n",
              "      <th>81273</th>\n",
              "      <td>szpitalem_narodowym</td>\n",
              "      <td>[0.15627466, 0.02407623, 0.052531946, -0.03053...</td>\n",
              "      <td>1</td>\n",
              "      <td>1</td>\n",
              "      <td>3.452484</td>\n",
              "    </tr>\n",
              "  </tbody>\n",
              "</table>\n",
              "<p>45156 rows × 5 columns</p>\n",
              "</div>\n",
              "      <button class=\"colab-df-convert\" onclick=\"convertToInteractive('df-93c3d9c6-b023-4b81-8331-77451f04819d')\"\n",
              "              title=\"Convert this dataframe to an interactive table.\"\n",
              "              style=\"display:none;\">\n",
              "        \n",
              "  <svg xmlns=\"http://www.w3.org/2000/svg\" height=\"24px\"viewBox=\"0 0 24 24\"\n",
              "       width=\"24px\">\n",
              "    <path d=\"M0 0h24v24H0V0z\" fill=\"none\"/>\n",
              "    <path d=\"M18.56 5.44l.94 2.06.94-2.06 2.06-.94-2.06-.94-.94-2.06-.94 2.06-2.06.94zm-11 1L8.5 8.5l.94-2.06 2.06-.94-2.06-.94L8.5 2.5l-.94 2.06-2.06.94zm10 10l.94 2.06.94-2.06 2.06-.94-2.06-.94-.94-2.06-.94 2.06-2.06.94z\"/><path d=\"M17.41 7.96l-1.37-1.37c-.4-.4-.92-.59-1.43-.59-.52 0-1.04.2-1.43.59L10.3 9.45l-7.72 7.72c-.78.78-.78 2.05 0 2.83L4 21.41c.39.39.9.59 1.41.59.51 0 1.02-.2 1.41-.59l7.78-7.78 2.81-2.81c.8-.78.8-2.07 0-2.86zM5.41 20L4 18.59l7.72-7.72 1.47 1.35L5.41 20z\"/>\n",
              "  </svg>\n",
              "      </button>\n",
              "      \n",
              "  <style>\n",
              "    .colab-df-container {\n",
              "      display:flex;\n",
              "      flex-wrap:wrap;\n",
              "      gap: 12px;\n",
              "    }\n",
              "\n",
              "    .colab-df-convert {\n",
              "      background-color: #E8F0FE;\n",
              "      border: none;\n",
              "      border-radius: 50%;\n",
              "      cursor: pointer;\n",
              "      display: none;\n",
              "      fill: #1967D2;\n",
              "      height: 32px;\n",
              "      padding: 0 0 0 0;\n",
              "      width: 32px;\n",
              "    }\n",
              "\n",
              "    .colab-df-convert:hover {\n",
              "      background-color: #E2EBFA;\n",
              "      box-shadow: 0px 1px 2px rgba(60, 64, 67, 0.3), 0px 1px 3px 1px rgba(60, 64, 67, 0.15);\n",
              "      fill: #174EA6;\n",
              "    }\n",
              "\n",
              "    [theme=dark] .colab-df-convert {\n",
              "      background-color: #3B4455;\n",
              "      fill: #D2E3FC;\n",
              "    }\n",
              "\n",
              "    [theme=dark] .colab-df-convert:hover {\n",
              "      background-color: #434B5C;\n",
              "      box-shadow: 0px 1px 3px 1px rgba(0, 0, 0, 0.15);\n",
              "      filter: drop-shadow(0px 1px 2px rgba(0, 0, 0, 0.3));\n",
              "      fill: #FFFFFF;\n",
              "    }\n",
              "  </style>\n",
              "\n",
              "      <script>\n",
              "        const buttonEl =\n",
              "          document.querySelector('#df-93c3d9c6-b023-4b81-8331-77451f04819d button.colab-df-convert');\n",
              "        buttonEl.style.display =\n",
              "          google.colab.kernel.accessAllowed ? 'block' : 'none';\n",
              "\n",
              "        async function convertToInteractive(key) {\n",
              "          const element = document.querySelector('#df-93c3d9c6-b023-4b81-8331-77451f04819d');\n",
              "          const dataTable =\n",
              "            await google.colab.kernel.invokeFunction('convertToInteractive',\n",
              "                                                     [key], {});\n",
              "          if (!dataTable) return;\n",
              "\n",
              "          const docLinkHtml = 'Like what you see? Visit the ' +\n",
              "            '<a target=\"_blank\" href=https://colab.research.google.com/notebooks/data_table.ipynb>data table notebook</a>'\n",
              "            + ' to learn more about interactive tables.';\n",
              "          element.innerHTML = '';\n",
              "          dataTable['output_type'] = 'display_data';\n",
              "          await google.colab.output.renderOutput(dataTable, element);\n",
              "          const docLink = document.createElement('div');\n",
              "          docLink.innerHTML = docLinkHtml;\n",
              "          element.appendChild(docLink);\n",
              "        }\n",
              "      </script>\n",
              "    </div>\n",
              "  </div>\n",
              "  "
            ],
            "text/plain": [
              "                     words  ... closeness_score\n",
              "3564         eczno_ciowych  ...        0.068745\n",
              "3625           mediach_spo  ...        0.071756\n",
              "4541                 eczny  ...        0.073067\n",
              "4483           dystans_spo  ...        0.073109\n",
              "3766                   dek  ...        0.082480\n",
              "...                    ...  ...             ...\n",
              "81056           zyk_obcych  ...        3.093711\n",
              "79867         idiotycznymi  ...        3.094166\n",
              "78264               berety  ...        3.174593\n",
              "82156                posle  ...        3.196658\n",
              "81273  szpitalem_narodowym  ...        3.452484\n",
              "\n",
              "[45156 rows x 5 columns]"
            ]
          },
          "metadata": {},
          "execution_count": 19
        }
      ]
    },
    {
      "cell_type": "code",
      "source": [
        "words[words[\"cluster_value\"]==0].sort_values(\"closeness_score\")"
      ],
      "metadata": {
        "colab": {
          "base_uri": "https://localhost:8080/",
          "height": 423
        },
        "id": "EKDfr8AcBuoI",
        "outputId": "b5b29d05-169e-4326-dcb1-149643eadbb1"
      },
      "execution_count": 20,
      "outputs": [
        {
          "output_type": "execute_result",
          "data": {
            "text/html": [
              "\n",
              "  <div id=\"df-2d1aec85-5674-410a-b855-a2b96f8c2f46\">\n",
              "    <div class=\"colab-df-container\">\n",
              "      <div>\n",
              "<style scoped>\n",
              "    .dataframe tbody tr th:only-of-type {\n",
              "        vertical-align: middle;\n",
              "    }\n",
              "\n",
              "    .dataframe tbody tr th {\n",
              "        vertical-align: top;\n",
              "    }\n",
              "\n",
              "    .dataframe thead th {\n",
              "        text-align: right;\n",
              "    }\n",
              "</style>\n",
              "<table border=\"1\" class=\"dataframe\">\n",
              "  <thead>\n",
              "    <tr style=\"text-align: right;\">\n",
              "      <th></th>\n",
              "      <th>words</th>\n",
              "      <th>vectors</th>\n",
              "      <th>cluster</th>\n",
              "      <th>cluster_value</th>\n",
              "      <th>closeness_score</th>\n",
              "    </tr>\n",
              "  </thead>\n",
              "  <tbody>\n",
              "    <tr>\n",
              "      <th>5413</th>\n",
              "      <td>stanu_wyj</td>\n",
              "      <td>[0.8830807, 0.42907318, 0.20298204, 0.24619886...</td>\n",
              "      <td>0</td>\n",
              "      <td>0</td>\n",
              "      <td>0.073580</td>\n",
              "    </tr>\n",
              "    <tr>\n",
              "      <th>4314</th>\n",
              "      <td>owej</td>\n",
              "      <td>[0.97819036, 0.14290985, 0.39115056, 1.5042621...</td>\n",
              "      <td>0</td>\n",
              "      <td>0</td>\n",
              "      <td>0.074731</td>\n",
              "    </tr>\n",
              "    <tr>\n",
              "      <th>2968</th>\n",
              "      <td>lekarzy_piel</td>\n",
              "      <td>[0.8650463, -0.014645286, -0.29739416, -0.2646...</td>\n",
              "      <td>0</td>\n",
              "      <td>0</td>\n",
              "      <td>0.075869</td>\n",
              "    </tr>\n",
              "    <tr>\n",
              "      <th>5271</th>\n",
              "      <td>kszo</td>\n",
              "      <td>[-0.21441852, 1.3825141, -0.40254623, 0.971067...</td>\n",
              "      <td>0</td>\n",
              "      <td>0</td>\n",
              "      <td>0.077877</td>\n",
              "    </tr>\n",
              "    <tr>\n",
              "      <th>2340</th>\n",
              "      <td>stan_wyj</td>\n",
              "      <td>[-1.1954869, 0.50614965, 1.1331028, 0.94011545...</td>\n",
              "      <td>0</td>\n",
              "      <td>0</td>\n",
              "      <td>0.078620</td>\n",
              "    </tr>\n",
              "    <tr>\n",
              "      <th>...</th>\n",
              "      <td>...</td>\n",
              "      <td>...</td>\n",
              "      <td>...</td>\n",
              "      <td>...</td>\n",
              "      <td>...</td>\n",
              "    </tr>\n",
              "    <tr>\n",
              "      <th>67356</th>\n",
              "      <td>zakresie_programu</td>\n",
              "      <td>[0.15728216, 0.06924231, -0.07531277, 0.010772...</td>\n",
              "      <td>0</td>\n",
              "      <td>0</td>\n",
              "      <td>2.442350</td>\n",
              "    </tr>\n",
              "    <tr>\n",
              "      <th>76977</th>\n",
              "      <td>linie_wolfsburg</td>\n",
              "      <td>[0.14938891, 0.06257749, -0.014810319, 0.01611...</td>\n",
              "      <td>0</td>\n",
              "      <td>0</td>\n",
              "      <td>2.475160</td>\n",
              "    </tr>\n",
              "    <tr>\n",
              "      <th>72766</th>\n",
              "      <td>wytypowane_szpitale</td>\n",
              "      <td>[0.12724137, 0.059392218, -0.02487266, 0.03252...</td>\n",
              "      <td>0</td>\n",
              "      <td>0</td>\n",
              "      <td>2.635051</td>\n",
              "    </tr>\n",
              "    <tr>\n",
              "      <th>63620</th>\n",
              "      <td>stworzy_bomb</td>\n",
              "      <td>[0.14885214, 0.10209131, -0.041647106, 0.06638...</td>\n",
              "      <td>0</td>\n",
              "      <td>0</td>\n",
              "      <td>3.168902</td>\n",
              "    </tr>\n",
              "    <tr>\n",
              "      <th>77955</th>\n",
              "      <td>acalno_firm</td>\n",
              "      <td>[0.14773636, 0.09014178, -0.035942204, 0.04492...</td>\n",
              "      <td>0</td>\n",
              "      <td>0</td>\n",
              "      <td>3.378506</td>\n",
              "    </tr>\n",
              "  </tbody>\n",
              "</table>\n",
              "<p>39605 rows × 5 columns</p>\n",
              "</div>\n",
              "      <button class=\"colab-df-convert\" onclick=\"convertToInteractive('df-2d1aec85-5674-410a-b855-a2b96f8c2f46')\"\n",
              "              title=\"Convert this dataframe to an interactive table.\"\n",
              "              style=\"display:none;\">\n",
              "        \n",
              "  <svg xmlns=\"http://www.w3.org/2000/svg\" height=\"24px\"viewBox=\"0 0 24 24\"\n",
              "       width=\"24px\">\n",
              "    <path d=\"M0 0h24v24H0V0z\" fill=\"none\"/>\n",
              "    <path d=\"M18.56 5.44l.94 2.06.94-2.06 2.06-.94-2.06-.94-.94-2.06-.94 2.06-2.06.94zm-11 1L8.5 8.5l.94-2.06 2.06-.94-2.06-.94L8.5 2.5l-.94 2.06-2.06.94zm10 10l.94 2.06.94-2.06 2.06-.94-2.06-.94-.94-2.06-.94 2.06-2.06.94z\"/><path d=\"M17.41 7.96l-1.37-1.37c-.4-.4-.92-.59-1.43-.59-.52 0-1.04.2-1.43.59L10.3 9.45l-7.72 7.72c-.78.78-.78 2.05 0 2.83L4 21.41c.39.39.9.59 1.41.59.51 0 1.02-.2 1.41-.59l7.78-7.78 2.81-2.81c.8-.78.8-2.07 0-2.86zM5.41 20L4 18.59l7.72-7.72 1.47 1.35L5.41 20z\"/>\n",
              "  </svg>\n",
              "      </button>\n",
              "      \n",
              "  <style>\n",
              "    .colab-df-container {\n",
              "      display:flex;\n",
              "      flex-wrap:wrap;\n",
              "      gap: 12px;\n",
              "    }\n",
              "\n",
              "    .colab-df-convert {\n",
              "      background-color: #E8F0FE;\n",
              "      border: none;\n",
              "      border-radius: 50%;\n",
              "      cursor: pointer;\n",
              "      display: none;\n",
              "      fill: #1967D2;\n",
              "      height: 32px;\n",
              "      padding: 0 0 0 0;\n",
              "      width: 32px;\n",
              "    }\n",
              "\n",
              "    .colab-df-convert:hover {\n",
              "      background-color: #E2EBFA;\n",
              "      box-shadow: 0px 1px 2px rgba(60, 64, 67, 0.3), 0px 1px 3px 1px rgba(60, 64, 67, 0.15);\n",
              "      fill: #174EA6;\n",
              "    }\n",
              "\n",
              "    [theme=dark] .colab-df-convert {\n",
              "      background-color: #3B4455;\n",
              "      fill: #D2E3FC;\n",
              "    }\n",
              "\n",
              "    [theme=dark] .colab-df-convert:hover {\n",
              "      background-color: #434B5C;\n",
              "      box-shadow: 0px 1px 3px 1px rgba(0, 0, 0, 0.15);\n",
              "      filter: drop-shadow(0px 1px 2px rgba(0, 0, 0, 0.3));\n",
              "      fill: #FFFFFF;\n",
              "    }\n",
              "  </style>\n",
              "\n",
              "      <script>\n",
              "        const buttonEl =\n",
              "          document.querySelector('#df-2d1aec85-5674-410a-b855-a2b96f8c2f46 button.colab-df-convert');\n",
              "        buttonEl.style.display =\n",
              "          google.colab.kernel.accessAllowed ? 'block' : 'none';\n",
              "\n",
              "        async function convertToInteractive(key) {\n",
              "          const element = document.querySelector('#df-2d1aec85-5674-410a-b855-a2b96f8c2f46');\n",
              "          const dataTable =\n",
              "            await google.colab.kernel.invokeFunction('convertToInteractive',\n",
              "                                                     [key], {});\n",
              "          if (!dataTable) return;\n",
              "\n",
              "          const docLinkHtml = 'Like what you see? Visit the ' +\n",
              "            '<a target=\"_blank\" href=https://colab.research.google.com/notebooks/data_table.ipynb>data table notebook</a>'\n",
              "            + ' to learn more about interactive tables.';\n",
              "          element.innerHTML = '';\n",
              "          dataTable['output_type'] = 'display_data';\n",
              "          await google.colab.output.renderOutput(dataTable, element);\n",
              "          const docLink = document.createElement('div');\n",
              "          docLink.innerHTML = docLinkHtml;\n",
              "          element.appendChild(docLink);\n",
              "        }\n",
              "      </script>\n",
              "    </div>\n",
              "  </div>\n",
              "  "
            ],
            "text/plain": [
              "                     words  ... closeness_score\n",
              "5413             stanu_wyj  ...        0.073580\n",
              "4314                  owej  ...        0.074731\n",
              "2968          lekarzy_piel  ...        0.075869\n",
              "5271                  kszo  ...        0.077877\n",
              "2340              stan_wyj  ...        0.078620\n",
              "...                    ...  ...             ...\n",
              "67356    zakresie_programu  ...        2.442350\n",
              "76977      linie_wolfsburg  ...        2.475160\n",
              "72766  wytypowane_szpitale  ...        2.635051\n",
              "63620         stworzy_bomb  ...        3.168902\n",
              "77955          acalno_firm  ...        3.378506\n",
              "\n",
              "[39605 rows x 5 columns]"
            ]
          },
          "metadata": {},
          "execution_count": 20
        }
      ]
    },
    {
      "cell_type": "code",
      "source": [
        "positive = ['dobry','miły','niesamowity','śmieszny','kochany','słodki']\n",
        "negative= ['głupi','szalony','niesympatyczny','zły','straszny', 'absurdalny' 'durny']\n",
        "for i in positive:\n",
        "    words.loc[words[\"words\"]==i,\"cluster_value\"] = 1\n",
        "    \n",
        "for i in negative:\n",
        "    words.loc[words[\"words\"]==i,\"cluster_value\"] = 0"
      ],
      "metadata": {
        "id": "e0vMeWmSB2bf"
      },
      "execution_count": 21,
      "outputs": []
    },
    {
      "cell_type": "code",
      "source": [
        "emotion = {1: \"positive\",\n",
        "           0: \"negative\"}\n",
        "\n",
        "words[\"sentiments\"] = words[\"cluster_value\"].map(emotion)\n",
        "\n",
        "fig = plt.gcf()\n",
        "fig.set_size_inches(7,7)\n",
        "colors = [\"skyblue\",\"darkblue\"]\n",
        "df_pie=words[\"sentiments\"].value_counts().reset_index()\n",
        "plt.pie(df_pie[\"sentiments\"], labels = df_pie[\"index\"], radius=2, colors=colors, autopct=\"%1.1f%%\")\n",
        "plt.axis('equal')\n",
        "plt.title(\"Dystrybucja sentymentów \", fontsize=20)\n",
        "plt.show()\n",
        "df_pie"
      ],
      "metadata": {
        "colab": {
          "base_uri": "https://localhost:8080/",
          "height": 536
        },
        "id": "yicF8y1uC6hh",
        "outputId": "f58af713-d8f5-41ec-d3c6-61d707aa09c4"
      },
      "execution_count": 22,
      "outputs": [
        {
          "output_type": "display_data",
          "data": {
            "image/png": "[encoded data removed]",
            "text/plain": [
              "<Figure size 504x504 with 1 Axes>"
            ]
          },
          "metadata": {}
        },
        {
          "output_type": "execute_result",
          "data": {
            "text/html": [
              "\n",
              "  <div id=\"df-52d5f69d-e3c6-4a65-bc59-53d40cb04211\">\n",
              "    <div class=\"colab-df-container\">\n",
              "      <div>\n",
              "<style scoped>\n",
              "    .dataframe tbody tr th:only-of-type {\n",
              "        vertical-align: middle;\n",
              "    }\n",
              "\n",
              "    .dataframe tbody tr th {\n",
              "        vertical-align: top;\n",
              "    }\n",
              "\n",
              "    .dataframe thead th {\n",
              "        text-align: right;\n",
              "    }\n",
              "</style>\n",
              "<table border=\"1\" class=\"dataframe\">\n",
              "  <thead>\n",
              "    <tr style=\"text-align: right;\">\n",
              "      <th></th>\n",
              "      <th>index</th>\n",
              "      <th>sentiments</th>\n",
              "    </tr>\n",
              "  </thead>\n",
              "  <tbody>\n",
              "    <tr>\n",
              "      <th>0</th>\n",
              "      <td>positive</td>\n",
              "      <td>45154</td>\n",
              "    </tr>\n",
              "    <tr>\n",
              "      <th>1</th>\n",
              "      <td>negative</td>\n",
              "      <td>39607</td>\n",
              "    </tr>\n",
              "  </tbody>\n",
              "</table>\n",
              "</div>\n",
              "      <button class=\"colab-df-convert\" onclick=\"convertToInteractive('df-52d5f69d-e3c6-4a65-bc59-53d40cb04211')\"\n",
              "              title=\"Convert this dataframe to an interactive table.\"\n",
              "              style=\"display:none;\">\n",
              "        \n",
              "  <svg xmlns=\"http://www.w3.org/2000/svg\" height=\"24px\"viewBox=\"0 0 24 24\"\n",
              "       width=\"24px\">\n",
              "    <path d=\"M0 0h24v24H0V0z\" fill=\"none\"/>\n",
              "    <path d=\"M18.56 5.44l.94 2.06.94-2.06 2.06-.94-2.06-.94-.94-2.06-.94 2.06-2.06.94zm-11 1L8.5 8.5l.94-2.06 2.06-.94-2.06-.94L8.5 2.5l-.94 2.06-2.06.94zm10 10l.94 2.06.94-2.06 2.06-.94-2.06-.94-.94-2.06-.94 2.06-2.06.94z\"/><path d=\"M17.41 7.96l-1.37-1.37c-.4-.4-.92-.59-1.43-.59-.52 0-1.04.2-1.43.59L10.3 9.45l-7.72 7.72c-.78.78-.78 2.05 0 2.83L4 21.41c.39.39.9.59 1.41.59.51 0 1.02-.2 1.41-.59l7.78-7.78 2.81-2.81c.8-.78.8-2.07 0-2.86zM5.41 20L4 18.59l7.72-7.72 1.47 1.35L5.41 20z\"/>\n",
              "  </svg>\n",
              "      </button>\n",
              "      \n",
              "  <style>\n",
              "    .colab-df-container {\n",
              "      display:flex;\n",
              "      flex-wrap:wrap;\n",
              "      gap: 12px;\n",
              "    }\n",
              "\n",
              "    .colab-df-convert {\n",
              "      background-color: #E8F0FE;\n",
              "      border: none;\n",
              "      border-radius: 50%;\n",
              "      cursor: pointer;\n",
              "      display: none;\n",
              "      fill: #1967D2;\n",
              "      height: 32px;\n",
              "      padding: 0 0 0 0;\n",
              "      width: 32px;\n",
              "    }\n",
              "\n",
              "    .colab-df-convert:hover {\n",
              "      background-color: #E2EBFA;\n",
              "      box-shadow: 0px 1px 2px rgba(60, 64, 67, 0.3), 0px 1px 3px 1px rgba(60, 64, 67, 0.15);\n",
              "      fill: #174EA6;\n",
              "    }\n",
              "\n",
              "    [theme=dark] .colab-df-convert {\n",
              "      background-color: #3B4455;\n",
              "      fill: #D2E3FC;\n",
              "    }\n",
              "\n",
              "    [theme=dark] .colab-df-convert:hover {\n",
              "      background-color: #434B5C;\n",
              "      box-shadow: 0px 1px 3px 1px rgba(0, 0, 0, 0.15);\n",
              "      filter: drop-shadow(0px 1px 2px rgba(0, 0, 0, 0.3));\n",
              "      fill: #FFFFFF;\n",
              "    }\n",
              "  </style>\n",
              "\n",
              "      <script>\n",
              "        const buttonEl =\n",
              "          document.querySelector('#df-52d5f69d-e3c6-4a65-bc59-53d40cb04211 button.colab-df-convert');\n",
              "        buttonEl.style.display =\n",
              "          google.colab.kernel.accessAllowed ? 'block' : 'none';\n",
              "\n",
              "        async function convertToInteractive(key) {\n",
              "          const element = document.querySelector('#df-52d5f69d-e3c6-4a65-bc59-53d40cb04211');\n",
              "          const dataTable =\n",
              "            await google.colab.kernel.invokeFunction('convertToInteractive',\n",
              "                                                     [key], {});\n",
              "          if (!dataTable) return;\n",
              "\n",
              "          const docLinkHtml = 'Like what you see? Visit the ' +\n",
              "            '<a target=\"_blank\" href=https://colab.research.google.com/notebooks/data_table.ipynb>data table notebook</a>'\n",
              "            + ' to learn more about interactive tables.';\n",
              "          element.innerHTML = '';\n",
              "          dataTable['output_type'] = 'display_data';\n",
              "          await google.colab.output.renderOutput(dataTable, element);\n",
              "          const docLink = document.createElement('div');\n",
              "          docLink.innerHTML = docLinkHtml;\n",
              "          element.appendChild(docLink);\n",
              "        }\n",
              "      </script>\n",
              "    </div>\n",
              "  </div>\n",
              "  "
            ],
            "text/plain": [
              "      index  sentiments\n",
              "0  positive       45154\n",
              "1  negative       39607"
            ]
          },
          "metadata": {},
          "execution_count": 22
        }
      ]
    },
    {
      "cell_type": "code",
      "source": [
        "from math import nan\n",
        "def get_sentiments(x, sent_dict):\n",
        "    total = 0\n",
        "    count = 0\n",
        "    test = x[\"clean_text\"]\n",
        "    for t in test:\n",
        "        if words_dict.get(t):\n",
        "            total += int(sent_dict.get(t))\n",
        "        count+=1 \n",
        "    if count == 0:\n",
        "     avg = 0 \n",
        "    else:\n",
        "      avg = total/count\n",
        "\n",
        "    #print(avg)\n",
        "    sentiment = 0 if avg < 0.5 else 1\n",
        "    return sentiment"
      ],
      "metadata": {
        "id": "pZVnKCxGC6YZ"
      },
      "execution_count": 23,
      "outputs": []
    },
    {
      "cell_type": "code",
      "source": [
        "words_dict = dict(zip(words.words, words.cluster_value))"
      ],
      "metadata": {
        "id": "eF1AclxCEB1o"
      },
      "execution_count": 24,
      "outputs": []
    },
    {
      "cell_type": "code",
      "source": [
        "raw_data[\"sentiment\"] = raw_data.apply(get_sentiments, args=(words_dict,), axis=1)"
      ],
      "metadata": {
        "id": "OB6BaoMt9cu_"
      },
      "execution_count": 25,
      "outputs": []
    },
    {
      "cell_type": "code",
      "source": [
        "raw_data[\"sentiment\"].value_counts()"
      ],
      "metadata": {
        "colab": {
          "base_uri": "https://localhost:8080/"
        },
        "id": "R4u-Oq-vEEF5",
        "outputId": "6c046410-9990-424f-fc8b-ff29d3d53e54"
      },
      "execution_count": 26,
      "outputs": [
        {
          "output_type": "execute_result",
          "data": {
            "text/plain": [
              "1    287637\n",
              "0    196023\n",
              "Name: sentiment, dtype: int64"
            ]
          },
          "metadata": {},
          "execution_count": 26
        }
      ]
    },
    {
      "cell_type": "code",
      "source": [
        "emotion = {1: \"positive\",\n",
        "           0: \"negative\"}\n",
        "\n",
        "raw_data[\"sentiments_val\"] = raw_data[\"sentiment\"].map(emotion)\n",
        "df_pie = raw_data[\"sentiments_val\"].value_counts().reset_index()\n",
        "fig = plt.gcf()\n",
        "fig.set_size_inches(7,7)\n",
        "colors = [\"blue\",\"skyblue\"]\n",
        "plt.pie(df_pie[\"sentiments_val\"],labels= df_pie[\"index\"],radius=2,autopct=\"%1.1f%%\", colors=colors)\n",
        "plt.axis('equal')\n",
        "plt.title(\"Dystrybucja sentymentu w tweetach \", fontsize=20)\n",
        "plt.show()\n",
        "df_pie"
      ],
      "metadata": {
        "colab": {
          "base_uri": "https://localhost:8080/",
          "height": 527
        },
        "id": "v3IA2e6DEGq3",
        "outputId": "efcd0797-bbea-499c-ba49-7bf64543218a"
      },
      "execution_count": 30,
      "outputs": [
        {
          "output_type": "display_data",
          "data": {
            "image/png": "[encoded data removed]",
            "text/plain": [
              "<Figure size 504x504 with 1 Axes>"
            ]
          },
          "metadata": {}
        },
        {
          "output_type": "execute_result",
          "data": {
            "text/html": [
              "\n",
              "  <div id=\"df-396af8c6-c38c-4a1c-afab-b77cc3f9536f\">\n",
              "    <div class=\"colab-df-container\">\n",
              "      <div>\n",
              "<style scoped>\n",
              "    .dataframe tbody tr th:only-of-type {\n",
              "        vertical-align: middle;\n",
              "    }\n",
              "\n",
              "    .dataframe tbody tr th {\n",
              "        vertical-align: top;\n",
              "    }\n",
              "\n",
              "    .dataframe thead th {\n",
              "        text-align: right;\n",
              "    }\n",
              "</style>\n",
              "<table border=\"1\" class=\"dataframe\">\n",
              "  <thead>\n",
              "    <tr style=\"text-align: right;\">\n",
              "      <th></th>\n",
              "      <th>index</th>\n",
              "      <th>sentiments_val</th>\n",
              "    </tr>\n",
              "  </thead>\n",
              "  <tbody>\n",
              "    <tr>\n",
              "      <th>0</th>\n",
              "      <td>positive</td>\n",
              "      <td>287637</td>\n",
              "    </tr>\n",
              "    <tr>\n",
              "      <th>1</th>\n",
              "      <td>negative</td>\n",
              "      <td>196023</td>\n",
              "    </tr>\n",
              "  </tbody>\n",
              "</table>\n",
              "</div>\n",
              "      <button class=\"colab-df-convert\" onclick=\"convertToInteractive('df-396af8c6-c38c-4a1c-afab-b77cc3f9536f')\"\n",
              "              title=\"Convert this dataframe to an interactive table.\"\n",
              "              style=\"display:none;\">\n",
              "        \n",
              "  <svg xmlns=\"http://www.w3.org/2000/svg\" height=\"24px\"viewBox=\"0 0 24 24\"\n",
              "       width=\"24px\">\n",
              "    <path d=\"M0 0h24v24H0V0z\" fill=\"none\"/>\n",
              "    <path d=\"M18.56 5.44l.94 2.06.94-2.06 2.06-.94-2.06-.94-.94-2.06-.94 2.06-2.06.94zm-11 1L8.5 8.5l.94-2.06 2.06-.94-2.06-.94L8.5 2.5l-.94 2.06-2.06.94zm10 10l.94 2.06.94-2.06 2.06-.94-2.06-.94-.94-2.06-.94 2.06-2.06.94z\"/><path d=\"M17.41 7.96l-1.37-1.37c-.4-.4-.92-.59-1.43-.59-.52 0-1.04.2-1.43.59L10.3 9.45l-7.72 7.72c-.78.78-.78 2.05 0 2.83L4 21.41c.39.39.9.59 1.41.59.51 0 1.02-.2 1.41-.59l7.78-7.78 2.81-2.81c.8-.78.8-2.07 0-2.86zM5.41 20L4 18.59l7.72-7.72 1.47 1.35L5.41 20z\"/>\n",
              "  </svg>\n",
              "      </button>\n",
              "      \n",
              "  <style>\n",
              "    .colab-df-container {\n",
              "      display:flex;\n",
              "      flex-wrap:wrap;\n",
              "      gap: 12px;\n",
              "    }\n",
              "\n",
              "    .colab-df-convert {\n",
              "      background-color: #E8F0FE;\n",
              "      border: none;\n",
              "      border-radius: 50%;\n",
              "      cursor: pointer;\n",
              "      display: none;\n",
              "      fill: #1967D2;\n",
              "      height: 32px;\n",
              "      padding: 0 0 0 0;\n",
              "      width: 32px;\n",
              "    }\n",
              "\n",
              "    .colab-df-convert:hover {\n",
              "      background-color: #E2EBFA;\n",
              "      box-shadow: 0px 1px 2px rgba(60, 64, 67, 0.3), 0px 1px 3px 1px rgba(60, 64, 67, 0.15);\n",
              "      fill: #174EA6;\n",
              "    }\n",
              "\n",
              "    [theme=dark] .colab-df-convert {\n",
              "      background-color: #3B4455;\n",
              "      fill: #D2E3FC;\n",
              "    }\n",
              "\n",
              "    [theme=dark] .colab-df-convert:hover {\n",
              "      background-color: #434B5C;\n",
              "      box-shadow: 0px 1px 3px 1px rgba(0, 0, 0, 0.15);\n",
              "      filter: drop-shadow(0px 1px 2px rgba(0, 0, 0, 0.3));\n",
              "      fill: #FFFFFF;\n",
              "    }\n",
              "  </style>\n",
              "\n",
              "      <script>\n",
              "        const buttonEl =\n",
              "          document.querySelector('#df-396af8c6-c38c-4a1c-afab-b77cc3f9536f button.colab-df-convert');\n",
              "        buttonEl.style.display =\n",
              "          google.colab.kernel.accessAllowed ? 'block' : 'none';\n",
              "\n",
              "        async function convertToInteractive(key) {\n",
              "          const element = document.querySelector('#df-396af8c6-c38c-4a1c-afab-b77cc3f9536f');\n",
              "          const dataTable =\n",
              "            await google.colab.kernel.invokeFunction('convertToInteractive',\n",
              "                                                     [key], {});\n",
              "          if (!dataTable) return;\n",
              "\n",
              "          const docLinkHtml = 'Like what you see? Visit the ' +\n",
              "            '<a target=\"_blank\" href=https://colab.research.google.com/notebooks/data_table.ipynb>data table notebook</a>'\n",
              "            + ' to learn more about interactive tables.';\n",
              "          element.innerHTML = '';\n",
              "          dataTable['output_type'] = 'display_data';\n",
              "          await google.colab.output.renderOutput(dataTable, element);\n",
              "          const docLink = document.createElement('div');\n",
              "          docLink.innerHTML = docLinkHtml;\n",
              "          element.appendChild(docLink);\n",
              "        }\n",
              "      </script>\n",
              "    </div>\n",
              "  </div>\n",
              "  "
            ],
            "text/plain": [
              "      index  sentiments_val\n",
              "0  positive          287637\n",
              "1  negative          196023"
            ]
          },
          "metadata": {},
          "execution_count": 30
        }
      ]
    },
    {
      "cell_type": "code",
      "source": [
        "raw_data.head()"
      ],
      "metadata": {
        "colab": {
          "base_uri": "https://localhost:8080/",
          "height": 206
        },
        "id": "UgEJvZOfqtSg",
        "outputId": "6f707ee6-fc7c-43c7-aa2e-a63411875271"
      },
      "execution_count": 31,
      "outputs": [
        {
          "output_type": "execute_result",
          "data": {
            "text/html": [
              "\n",
              "  <div id=\"df-604db3a4-7f16-44e5-bfd9-8118044c44b4\">\n",
              "    <div class=\"colab-df-container\">\n",
              "      <div>\n",
              "<style scoped>\n",
              "    .dataframe tbody tr th:only-of-type {\n",
              "        vertical-align: middle;\n",
              "    }\n",
              "\n",
              "    .dataframe tbody tr th {\n",
              "        vertical-align: top;\n",
              "    }\n",
              "\n",
              "    .dataframe thead th {\n",
              "        text-align: right;\n",
              "    }\n",
              "</style>\n",
              "<table border=\"1\" class=\"dataframe\">\n",
              "  <thead>\n",
              "    <tr style=\"text-align: right;\">\n",
              "      <th></th>\n",
              "      <th>tweet</th>\n",
              "      <th>clean_text</th>\n",
              "      <th>cleaned_text</th>\n",
              "      <th>sentiment</th>\n",
              "      <th>sentiments_val</th>\n",
              "    </tr>\n",
              "  </thead>\n",
              "  <tbody>\n",
              "    <tr>\n",
              "      <th>0</th>\n",
              "      <td>Kiedy #coronavirus dotrze do Polski, napotka o...</td>\n",
              "      <td>[coronavirus, dotrze, polski, napotka, op, zna...</td>\n",
              "      <td>coronavirus dotrze polski napotka op znakomici...</td>\n",
              "      <td>1</td>\n",
              "      <td>positive</td>\n",
              "    </tr>\n",
              "    <tr>\n",
              "      <th>1</th>\n",
              "      <td>Kolejni Polacy chcą wrócić z Wuhan https://t.c...</td>\n",
              "      <td>[kolejni, polacy, chc, wr, wuhan]</td>\n",
              "      <td>kolejni polacy chc wr wuhan</td>\n",
              "      <td>1</td>\n",
              "      <td>positive</td>\n",
              "    </tr>\n",
              "    <tr>\n",
              "      <th>2</th>\n",
              "      <td>A tymczasem w Wuhan odcięto od reszty świata o...</td>\n",
              "      <td>[tymczasem, wuhan, odci, reszty, wiata, obszar...</td>\n",
              "      <td>tymczasem wuhan odci reszty wiata obszar por w...</td>\n",
              "      <td>0</td>\n",
              "      <td>negative</td>\n",
              "    </tr>\n",
              "    <tr>\n",
              "      <th>3</th>\n",
              "      <td>@PatrykWachowiec @KancelariaSejmu nie zdziwię ...</td>\n",
              "      <td>[zdziwi, si, powiedz, listy, pojecha, chin, wu...</td>\n",
              "      <td>zdziwi si powiedz listy pojecha chin wuhan odw...</td>\n",
              "      <td>1</td>\n",
              "      <td>positive</td>\n",
              "    </tr>\n",
              "    <tr>\n",
              "      <th>4</th>\n",
              "      <td>.@MSZ_RP: 19 Polaków chce wrócić z Wuhan, w am...</td>\n",
              "      <td>[rp, polak, wr, wuhan, ambasadzie, rp, pekinie...</td>\n",
              "      <td>rp polak wr wuhan ambasadzie rp pekinie powo a...</td>\n",
              "      <td>1</td>\n",
              "      <td>positive</td>\n",
              "    </tr>\n",
              "  </tbody>\n",
              "</table>\n",
              "</div>\n",
              "      <button class=\"colab-df-convert\" onclick=\"convertToInteractive('df-604db3a4-7f16-44e5-bfd9-8118044c44b4')\"\n",
              "              title=\"Convert this dataframe to an interactive table.\"\n",
              "              style=\"display:none;\">\n",
              "        \n",
              "  <svg xmlns=\"http://www.w3.org/2000/svg\" height=\"24px\"viewBox=\"0 0 24 24\"\n",
              "       width=\"24px\">\n",
              "    <path d=\"M0 0h24v24H0V0z\" fill=\"none\"/>\n",
              "    <path d=\"M18.56 5.44l.94 2.06.94-2.06 2.06-.94-2.06-.94-.94-2.06-.94 2.06-2.06.94zm-11 1L8.5 8.5l.94-2.06 2.06-.94-2.06-.94L8.5 2.5l-.94 2.06-2.06.94zm10 10l.94 2.06.94-2.06 2.06-.94-2.06-.94-.94-2.06-.94 2.06-2.06.94z\"/><path d=\"M17.41 7.96l-1.37-1.37c-.4-.4-.92-.59-1.43-.59-.52 0-1.04.2-1.43.59L10.3 9.45l-7.72 7.72c-.78.78-.78 2.05 0 2.83L4 21.41c.39.39.9.59 1.41.59.51 0 1.02-.2 1.41-.59l7.78-7.78 2.81-2.81c.8-.78.8-2.07 0-2.86zM5.41 20L4 18.59l7.72-7.72 1.47 1.35L5.41 20z\"/>\n",
              "  </svg>\n",
              "      </button>\n",
              "      \n",
              "  <style>\n",
              "    .colab-df-container {\n",
              "      display:flex;\n",
              "      flex-wrap:wrap;\n",
              "      gap: 12px;\n",
              "    }\n",
              "\n",
              "    .colab-df-convert {\n",
              "      background-color: #E8F0FE;\n",
              "      border: none;\n",
              "      border-radius: 50%;\n",
              "      cursor: pointer;\n",
              "      display: none;\n",
              "      fill: #1967D2;\n",
              "      height: 32px;\n",
              "      padding: 0 0 0 0;\n",
              "      width: 32px;\n",
              "    }\n",
              "\n",
              "    .colab-df-convert:hover {\n",
              "      background-color: #E2EBFA;\n",
              "      box-shadow: 0px 1px 2px rgba(60, 64, 67, 0.3), 0px 1px 3px 1px rgba(60, 64, 67, 0.15);\n",
              "      fill: #174EA6;\n",
              "    }\n",
              "\n",
              "    [theme=dark] .colab-df-convert {\n",
              "      background-color: #3B4455;\n",
              "      fill: #D2E3FC;\n",
              "    }\n",
              "\n",
              "    [theme=dark] .colab-df-convert:hover {\n",
              "      background-color: #434B5C;\n",
              "      box-shadow: 0px 1px 3px 1px rgba(0, 0, 0, 0.15);\n",
              "      filter: drop-shadow(0px 1px 2px rgba(0, 0, 0, 0.3));\n",
              "      fill: #FFFFFF;\n",
              "    }\n",
              "  </style>\n",
              "\n",
              "      <script>\n",
              "        const buttonEl =\n",
              "          document.querySelector('#df-604db3a4-7f16-44e5-bfd9-8118044c44b4 button.colab-df-convert');\n",
              "        buttonEl.style.display =\n",
              "          google.colab.kernel.accessAllowed ? 'block' : 'none';\n",
              "\n",
              "        async function convertToInteractive(key) {\n",
              "          const element = document.querySelector('#df-604db3a4-7f16-44e5-bfd9-8118044c44b4');\n",
              "          const dataTable =\n",
              "            await google.colab.kernel.invokeFunction('convertToInteractive',\n",
              "                                                     [key], {});\n",
              "          if (!dataTable) return;\n",
              "\n",
              "          const docLinkHtml = 'Like what you see? Visit the ' +\n",
              "            '<a target=\"_blank\" href=https://colab.research.google.com/notebooks/data_table.ipynb>data table notebook</a>'\n",
              "            + ' to learn more about interactive tables.';\n",
              "          element.innerHTML = '';\n",
              "          dataTable['output_type'] = 'display_data';\n",
              "          await google.colab.output.renderOutput(dataTable, element);\n",
              "          const docLink = document.createElement('div');\n",
              "          docLink.innerHTML = docLinkHtml;\n",
              "          element.appendChild(docLink);\n",
              "        }\n",
              "      </script>\n",
              "    </div>\n",
              "  </div>\n",
              "  "
            ],
            "text/plain": [
              "                                               tweet  ... sentiments_val\n",
              "0  Kiedy #coronavirus dotrze do Polski, napotka o...  ...       positive\n",
              "1  Kolejni Polacy chcą wrócić z Wuhan https://t.c...  ...       positive\n",
              "2  A tymczasem w Wuhan odcięto od reszty świata o...  ...       negative\n",
              "3  @PatrykWachowiec @KancelariaSejmu nie zdziwię ...  ...       positive\n",
              "4  .@MSZ_RP: 19 Polaków chce wrócić z Wuhan, w am...  ...       positive\n",
              "\n",
              "[5 rows x 5 columns]"
            ]
          },
          "metadata": {},
          "execution_count": 31
        }
      ]
    },
    {
      "cell_type": "code",
      "source": [
        "raw_data.to_csv( \"/content/drive/MyDrive/ZUM projekt/clean_data.csv\", index=False, encoding='utf-8-sig')"
      ],
      "metadata": {
        "id": "Od9Swz8UqtiW"
      },
      "execution_count": 32,
      "outputs": []
    }
  ]
}